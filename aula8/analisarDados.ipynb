{
 "cells": [
  {
   "cell_type": "markdown",
   "id": "5f8927b0-5137-4f97-8a5f-5931664edd29",
   "metadata": {},
   "source": [
    "##Usando o MatMiner e Python para visualização de dados\n",
    "##Este notebook é uma continuação do anterior e agora vamos ver visualizar e ao mesmo tempo trabalhar com os dados obtidos.\n",
    "\n"
   ]
  },
  {
   "cell_type": "code",
   "execution_count": null,
   "id": "8d3e5d83-d87e-4ef9-a158-b129d9dcc64f",
   "metadata": {},
   "outputs": [],
   "source": [
    "from platform import python_version\n",
    "from matminer.data_retrieval.retrieve_MP import MPDataRetrieval\n",
    "from matminer.data_retrieval.retrieve_Citrine import CitrineDataRetrieval\n",
    "from matminer.datasets import load_dataset\n",
    "from figrecipes import PlotlyFig #pacote para gráficos\n",
    "\n",
    "#pacotes para ML\n",
    "from sklearn.linear_model import LinearRegression\n",
    "from sklearn.metrics import mean_squared_error\n",
    "\n",
    "#computação cientifica e ta belas\n",
    "import numpy as np\n",
    "import pandas as pd\n",
    "\n",
    "print(python_version())"
   ]
  },
  {
   "cell_type": "code",
   "execution_count": null,
   "id": "f44e5429-20ae-4881-a873-1dea315e8427",
   "metadata": {},
   "outputs": [],
   "source": [
    "#importa dados do repositorio Citrine\n",
    "ct = CitrineDataRetrieval(\"xT5QPhsWvXFYHn7P7XeqJQtt\")\n",
    "dc = ct.get_dataframe(criteria={'data_set_id': 154544, 'max_results':1000})\n",
    "#limpeza de dados\n",
    "dc = dc.drop(columns = ['references', 'Elongation in 2 in', 'Material Type-references', 'Reduction in Area', 'Elongation  (2 in)-units', 'Type-references', 'Yield Strength-conditions', 'ids', 'contacts', 'Reduction in Area-units', 'Impact Strength-units', 'preparation', 'Size', 'Elongation  (8 in)-references', 'Hardness', 'Hardness-references', 'Impact Strength-references'])\n",
    "dc = dc.fillna(-1)\n",
    "dc.describe()\n"
   ]
  },
  {
   "cell_type": "code",
   "execution_count": null,
   "id": "cb91b066-8af4-46cc-b052-827ef8c419bf",
   "metadata": {},
   "outputs": [],
   "source": [
    "#inicio da visualização\n",
    "plt = PlotlyFig(dc, x_title='Tensile Strength (Pa)', \n",
    "               y_title='Total', mode='notebook')\n",
    "plt.histogram(dc['Tensile Strength'])\n",
    "plt = PlotlyFig(dc, x_title='Tensile Strength (Pa)', \n",
    "               y_title='Elongation (lb/pol)', mode='notebook')\n",
    "plt.xy(('Tensile Strength', 'Elongation'))\n",
    "dc = dc.fillna(-1)\n",
    "dc.head()"
   ]
  },
  {
   "cell_type": "code",
   "execution_count": null,
   "id": "ea48693b-9cd1-4bcc-bf8c-2048bc321d44",
   "metadata": {},
   "outputs": [],
   "source": [
    "#converte para números\n",
    "dc['Tensile Strength'] = pd.to_numeric(dc['Tensile Strength'])\n",
    "dc['Elongation'] = pd.to_numeric(dc['Elongation'])\n",
    "\n",
    "#filtra os dados\n",
    "dc = dc[dc['Tensile Strength'] > 1000]\n",
    "dc = dc[dc['Elongation'] > 0]\n",
    "dc.head()\n",
    "dc.describe()\n"
   ]
  },
  {
   "cell_type": "code",
   "execution_count": null,
   "id": "6bbdd760-f0fc-496d-ad2d-acb02e5afc05",
   "metadata": {},
   "outputs": [],
   "source": [
    "plt = PlotlyFig(dc, x_title='Tensile Strength (Pa)', \n",
    "y_title='Elongation (lb/pol)', mode='notebook')\n",
    "plt.xy(('Tensile Strength', 'Elongation'))"
   ]
  },
  {
   "cell_type": "code",
   "execution_count": null,
   "id": "3281140a-e884-409d-90cd-ab91c0ba50c8",
   "metadata": {},
   "outputs": [],
   "source": [
    "#prepara os dados para ML\n",
    "y = dc['Elongation'].values #valores a treinar\n",
    "x = dc.drop('Elongation', axis=1) #descritores\n",
    "print(y) \n",
    "print(\"Há {} Descritores possíveis:\\n\\n{}\".format(x.shape[1], x.columns.values))"
   ]
  },
  {
   "cell_type": "code",
   "execution_count": null,
   "id": "8f15b308-12cf-46dc-b30d-7d1193269fd5",
   "metadata": {},
   "outputs": [],
   "source": [
    "x.head()"
   ]
  },
  {
   "cell_type": "code",
   "execution_count": null,
   "id": "56d9e240-b316-4de8-9638-84654f78b042",
   "metadata": {},
   "outputs": [],
   "source": [
    "limpar = [\"names\", \"composition\"]\n",
    "x = x.drop(limpar, axis=1)\n",
    "limpar = [\"Tensile Strength-units\", \"Yield Strength-units\", \"Elongation-units\"]\n",
    "x = x.drop(limpar, axis=1)\n",
    "limpar = [\"Hardness-units\", \"Size-units\"]\n",
    "x = x.drop(limpar, axis=1)\n",
    "limpar = [\"Elongation in 2 in-units\", \"Material Type\", \"Form\"]\n",
    "x = x.drop(limpar, axis=1)\n",
    "x.head()"
   ]
  },
  {
   "cell_type": "code",
   "execution_count": null,
   "id": "833b1c35-1336-4835-b094-b537fba22773",
   "metadata": {},
   "outputs": [],
   "source": [
    "#cria um modelo simples\n",
    "lr = LinearRegression()\n",
    "lr.fit(x, y)\n",
    "print('training R2 = ' + str(round(lr.score(x, y), 3)))\n",
    "print('training RMSE = %.3f' % np.sqrt(mean_squared_error(y_true=y, y_pred=lr.predict(x))))"
   ]
  },
  {
   "cell_type": "code",
   "execution_count": null,
   "id": "2737e693-6035-417b-b5ec-9174510b2c50",
   "metadata": {},
   "outputs": [],
   "source": []
  }
 ],
 "metadata": {
  "kernelspec": {
   "display_name": "Python 3",
   "language": "python",
   "name": "python3"
  },
  "language_info": {
   "codemirror_mode": {
    "name": "ipython",
    "version": 3
   },
   "file_extension": ".py",
   "mimetype": "text/x-python",
   "name": "python",
   "nbconvert_exporter": "python",
   "pygments_lexer": "ipython3",
   "version": "3.8.8"
  }
 },
 "nbformat": 4,
 "nbformat_minor": 5
}
