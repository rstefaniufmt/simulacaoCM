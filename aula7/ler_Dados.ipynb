{
 "cells": [
  {
   "attachments": {},
   "cell_type": "markdown",
   "id": "b2380067",
   "metadata": {},
   "source": [
    "# Usando o MatMiner e Python para acessar bancos públicos de Materiais\n",
    "\n",
    "## Não é a Caixa, nem o BB!!\n",
    "\n",
    "\n",
    "Neste Notebook vamos ver como se conectar com dados usando MatMiner e como manipular esses dados.\n",
    "Vamos ver como importar dados do Citrine e do Materials Project\n",
    "\n",
    "Combinado com Pandas, é uma forma muito versátil de extrair dados sobre materiais\n",
    "\n",
    "A primeira coisa é importar o pacote do matminer e verificar a versão do Python"
   ]
  },
  {
   "cell_type": "code",
   "execution_count": null,
   "id": "4a2e92f2",
   "metadata": {},
   "outputs": [],
   "source": [
    "from platform import python_version\n",
    "from matminer.data_retrieval.retrieve_MP import MPDataRetrieval\n",
    "from matminer.data_retrieval.retrieve_Citrine import CitrineDataRetrieval\n",
    "from matminer.datasets import load_dataset\n",
    "\n",
    "import pandas as pd\n",
    "\n",
    "print(python_version())"
   ]
  },
  {
   "cell_type": "code",
   "execution_count": null,
   "id": "b812f65b",
   "metadata": {},
   "outputs": [],
   "source": [
    "#importa dados do repositório Materials Project\n",
    "dados = MPDataRetrieval(\"C1yu1fPx355L6tyU\")\n",
    "df = dados.get_dataframe({\"elasticity\": {\"$exists\": True}, \"elasticity.warnings\": []},\n",
    "                         ['pretty_formula', 'elasticity.K_VRH'])"
   ]
  },
  {
   "cell_type": "code",
   "execution_count": null,
   "id": "c9391cae",
   "metadata": {},
   "outputs": [],
   "source": [
    "df.head()"
   ]
  },
  {
   "cell_type": "code",
   "execution_count": null,
   "id": "9159bc23",
   "metadata": {},
   "outputs": [],
   "source": [
    "df.describe()"
   ]
  },
  {
   "cell_type": "code",
   "execution_count": null,
   "id": "99133160",
   "metadata": {},
   "outputs": [],
   "source": [
    "#df.to_csv('dados.csv') #salva como CSV"
   ]
  },
  {
   "cell_type": "code",
   "execution_count": null,
   "id": "7e87785a",
   "metadata": {},
   "outputs": [],
   "source": [
    "#importa dados do repositorio Citrine\n",
    "ct = CitrineDataRetrieval(\"xT5QPhsWvXFYHn7P7XeqJQtt\")\n",
    "dc = ct.get_dataframe(criteria={'data_set_id': 154544, 'max_results':100})\n",
    "print(dc)"
   ]
  },
  {
   "cell_type": "code",
   "execution_count": null,
   "id": "4576aae4",
   "metadata": {},
   "outputs": [],
   "source": [
    "#inspeciona os dados\n",
    "dc.head()"
   ]
  },
  {
   "cell_type": "code",
   "execution_count": null,
   "id": "597c3996",
   "metadata": {},
   "outputs": [],
   "source": [
    "dc.describe()"
   ]
  },
  {
   "cell_type": "code",
   "execution_count": null,
   "id": "f95aeda9",
   "metadata": {},
   "outputs": [],
   "source": [
    "#limpeza de dados\n",
    "dc = dc.drop(columns = ['references', 'Elongation in 2 in', 'Material Type-references', 'Reduction in Area', 'Elongation  (2 in)-units', 'Type-references', 'Yield Strength-conditions', 'ids', 'contacts', 'Reduction in Area-units', 'Impact Strength-units', 'preparation', 'Size', 'Elongation  (8 in)-references', 'Hardness', 'Hardness-references', 'Impact Strength-references'])"
   ]
  },
  {
   "cell_type": "code",
   "execution_count": null,
   "id": "9b6c1beb",
   "metadata": {},
   "outputs": [],
   "source": [
    "dc.head()"
   ]
  },
  {
   "cell_type": "code",
   "execution_count": null,
   "id": "fe99ad2a",
   "metadata": {},
   "outputs": [],
   "source": [
    "#Substitui NaN por -1\n",
    "dc = dc.fillna(-1)"
   ]
  },
  {
   "cell_type": "code",
   "execution_count": null,
   "id": "b2f1f9a6",
   "metadata": {},
   "outputs": [],
   "source": [
    "dc.describe()"
   ]
  },
  {
   "cell_type": "code",
   "execution_count": null,
   "id": "4eac11a3",
   "metadata": {},
   "outputs": [],
   "source": [
    "dc.head()"
   ]
  },
  {
   "cell_type": "code",
   "execution_count": null,
   "id": "faf63b4d",
   "metadata": {},
   "outputs": [],
   "source": [
    "ds = load_dataset(\"steel_strength\")\n",
    "ds.head()"
   ]
  },
  {
   "cell_type": "code",
   "execution_count": null,
   "id": "c9a4cdb1",
   "metadata": {},
   "outputs": [],
   "source": [
    "ds = ds.fillna(-1)\n",
    "ds.describe()"
   ]
  },
  {
   "cell_type": "code",
   "execution_count": null,
   "id": "918ac518",
   "metadata": {},
   "outputs": [],
   "source": []
  }
 ],
 "metadata": {
  "kernelspec": {
   "display_name": "Python 3",
   "language": "python",
   "name": "python3"
  },
  "language_info": {
   "codemirror_mode": {
    "name": "ipython",
    "version": 3
   },
   "file_extension": ".py",
   "mimetype": "text/x-python",
   "name": "python",
   "nbconvert_exporter": "python",
   "pygments_lexer": "ipython3",
   "version": "3.8.8"
  }
 },
 "nbformat": 4,
 "nbformat_minor": 5
}
