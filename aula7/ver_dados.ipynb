{
 "cells": [
  {
   "cell_type": "markdown",
   "id": "4026c10d",
   "metadata": {},
   "source": [
    "# Usando o MatMiner e Python para visualização de dados\n",
    "\n",
    "Este notebook é uma continuação do anterior e agora vamos ver visualizar os ados obtidos.\n",
    "\n"
   ]
  },
  {
   "cell_type": "code",
   "execution_count": null,
   "id": "fb7e7cb2",
   "metadata": {},
   "outputs": [],
   "source": [
    "from platform import python_version\n",
    "from matminer.data_retrieval.retrieve_MP import MPDataRetrieval\n",
    "from matminer.data_retrieval.retrieve_Citrine import CitrineDataRetrieval\n",
    "from matminer.datasets import load_dataset\n",
    "from figrecipes import PlotlyFig #pacote para gráficos\n",
    "\n",
    "import pandas as pd\n",
    "\n",
    "print(python_version())"
   ]
  },
  {
   "cell_type": "code",
   "execution_count": null,
   "id": "b88c4f37",
   "metadata": {},
   "outputs": [],
   "source": [
    "#importa dados do repositório Materials Project\n",
    "dados = MPDataRetrieval(\"C1yu1fPx355L6tyU\")\n",
    "df = dados.get_dataframe({\"elasticity\": {\"$exists\": True}, \"elasticity.warnings\": []},\n",
    "                         ['pretty_formula', 'elasticity.K_VRH'])\n",
    "df.describe()"
   ]
  },
  {
   "cell_type": "code",
   "execution_count": null,
   "id": "53651cf8",
   "metadata": {},
   "outputs": [],
   "source": [
    "#importa dados do repositorio Citrine\n",
    "ct = CitrineDataRetrieval(\"xT5QPhsWvXFYHn7P7XeqJQtt\")\n",
    "dc = ct.get_dataframe(criteria={'data_set_id': 154544, 'max_results':100})\n",
    "print(dc)"
   ]
  },
  {
   "cell_type": "code",
   "execution_count": null,
   "id": "5b44dcec",
   "metadata": {},
   "outputs": [],
   "source": [
    "#limpeza de dados\n",
    "dc = dc.drop(columns = ['references', 'Elongation in 2 in', 'Material Type-references', 'Reduction in Area', 'Elongation  (2 in)-units', 'Type-references', 'Yield Strength-conditions', 'ids', 'contacts', 'Reduction in Area-units', 'Impact Strength-units', 'preparation', 'Size', 'Elongation  (8 in)-references', 'Hardness', 'Hardness-references', 'Impact Strength-references'])"
   ]
  },
  {
   "cell_type": "code",
   "execution_count": null,
   "id": "2881f54e",
   "metadata": {},
   "outputs": [],
   "source": [
    "dc = dc.fillna(-1)\n",
    "dc.describe()"
   ]
  },
  {
   "cell_type": "code",
   "execution_count": null,
   "id": "7f3e21e9",
   "metadata": {},
   "outputs": [],
   "source": [
    "#inicio da visualização\n",
    "\n",
    "plt = PlotlyFig(dc, x_title='Tensile Strength (Pa)', \n",
    "               y_title='Total', mode='notebook')\n",
    "plt.histogram(dc['Tensile Strength'])"
   ]
  },
  {
   "cell_type": "code",
   "execution_count": null,
   "id": "5d093049",
   "metadata": {},
   "outputs": [],
   "source": [
    "plt = PlotlyFig(dc, x_title='Tensile Strength (Pa)', \n",
    "               y_title='Elongation (lb/pol)', mode='notebook')\n",
    "plt.xy(('Tensile Strength', 'Elongation'))"
   ]
  },
  {
   "cell_type": "code",
   "execution_count": null,
   "id": "5f4daa32",
   "metadata": {},
   "outputs": [],
   "source": [
    "ds = load_dataset(\"steel_strength\")\n",
    "ds.head()"
   ]
  },
  {
   "cell_type": "code",
   "execution_count": null,
   "id": "00228255",
   "metadata": {},
   "outputs": [],
   "source": [
    "plt = PlotlyFig(ds, mode='notebook')\n",
    "plt.scatter_matrix(cols=['yield strength', 'tensile strength', 'elongation'], colors='elongation',colorscale='Viridis')"
   ]
  },
  {
   "cell_type": "code",
   "execution_count": null,
   "id": "334278f5",
   "metadata": {},
   "outputs": [],
   "source": []
  }
 ],
 "metadata": {
  "kernelspec": {
   "display_name": "Python 3",
   "language": "python",
   "name": "python3"
  },
  "language_info": {
   "codemirror_mode": {
    "name": "ipython",
    "version": 3
   },
   "file_extension": ".py",
   "mimetype": "text/x-python",
   "name": "python",
   "nbconvert_exporter": "python",
   "pygments_lexer": "ipython3",
   "version": "3.8.8"
  }
 },
 "nbformat": 4,
 "nbformat_minor": 5
}
