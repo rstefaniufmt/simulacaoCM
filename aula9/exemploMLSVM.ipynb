{
 "cells": [
  {
   "cell_type": "markdown",
   "id": "3eee122b",
   "metadata": {},
   "source": [
    "# Usando o MatMiner e Python para treinar SVM de dados\n",
    "##Este notebook é uma continuação do anterior e agora vamos ver visualizar e ao mesmo tempo trabalhar com os dados obtidos.\n",
    "\n"
   ]
  },
  {
   "cell_type": "code",
   "execution_count": null,
   "id": "65fe41d9",
   "metadata": {},
   "outputs": [],
   "source": [
    "from platform import python_version\n",
    "from matminer.data_retrieval.retrieve_MP import MPDataRetrieval\n",
    "from matminer.data_retrieval.retrieve_Citrine import CitrineDataRetrieval\n",
    "from matminer.datasets import load_dataset\n",
    "from figrecipes import PlotlyFig #pacote para gráficos\n",
    "\n",
    "#pacotes para ML\n",
    "from sklearn.linear_model import LinearRegression\n",
    "from sklearn.metrics import mean_squared_error\n",
    "from sklearn.model_selection import KFold, cross_val_score\n",
    "from sklearn.model_selection import cross_val_predict\n",
    "\n",
    "#pacotes para SVM\n",
    "from sklearn.svm import SVR\n",
    "from sklearn.model_selection import GridSearchCV\n",
    "from sklearn.model_selection import train_test_split\n",
    "\n",
    "#computação cientifica e tabelas\n",
    "import numpy as np\n",
    "import pandas as pd\n",
    "import matplotlib.pyplot as plt\n",
    "\n",
    "print(python_version())"
   ]
  },
  {
   "cell_type": "code",
   "execution_count": null,
   "id": "6d591c6c",
   "metadata": {},
   "outputs": [],
   "source": [
    "#importa dados do repositorio Citrine\n",
    "ct = CitrineDataRetrieval(\"xT5QPhsWvXFYHn7P7XeqJQtt\")\n",
    "dc = ct.get_dataframe(criteria={'data_set_id': 154544, 'max_results':550})\n",
    "#limpeza de dados\n",
    "dc = dc.drop(columns = ['Elongation-units', 'Yield Strength-units' , 'Hardness-units', 'Size-units', 'Tensile Strength-units','references', 'Material Type-references','Elongation  (2 in)-units', 'Type-references', 'Yield Strength-conditions', 'ids', 'contacts', 'Reduction in Area-units', 'Impact Strength-units', 'preparation', 'Size', 'Elongation  (8 in)-references', 'Hardness-references', 'Impact Strength-references'])\n",
    "dc.head()\n"
   ]
  },
  {
   "cell_type": "code",
   "execution_count": null,
   "id": "63264ce1",
   "metadata": {},
   "outputs": [],
   "source": [
    "#inicio da visualização\n",
    "plt = PlotlyFig(dc, x_title='Tensile Strength (Pa)', \n",
    "               y_title='Total', mode='notebook')\n",
    "plt.histogram(dc['Tensile Strength'])\n",
    "plt = PlotlyFig(dc, x_title='Tensile Strength (Pa)', \n",
    "               y_title='Elongation (lb/pol)', mode='notebook')\n",
    "plt.xy(('Tensile Strength', 'Elongation'))\n",
    "dc = dc.fillna(-1)\n",
    "dc.head()"
   ]
  },
  {
   "cell_type": "code",
   "execution_count": null,
   "id": "d14f2489",
   "metadata": {},
   "outputs": [],
   "source": [
    "#converte para números\n",
    "dc['Tensile Strength'] = pd.to_numeric(dc['Tensile Strength'])\n",
    "dc['Elongation'] = pd.to_numeric(dc['Elongation'])\n",
    "\n",
    "#filtra os dados\n",
    "dc = dc[dc['Tensile Strength'] > 1000]\n",
    "dc = dc[dc['Elongation'] > 0]\n",
    "dc.head()\n",
    "dc.describe()\n"
   ]
  },
  {
   "cell_type": "code",
   "execution_count": null,
   "id": "83d9e354",
   "metadata": {},
   "outputs": [],
   "source": [
    "plt = PlotlyFig(dc, x_title='Tensile Strength (Pa)', \n",
    "y_title='Elongation (lb/pol)', mode='notebook')\n",
    "plt.xy(('Tensile Strength', 'Elongation'))"
   ]
  },
  {
   "cell_type": "code",
   "execution_count": null,
   "id": "8bc87e25",
   "metadata": {},
   "outputs": [],
   "source": [
    "#prepara os dados para ML\n",
    "y = dc['Elongation'].values #valores a treinar\n",
    "x = dc.drop('Elongation', axis=1) #descritores\n",
    "print(y) \n",
    "print(\"Há {} Descritores possíveis:\\n\\n{}\".format(x.shape[1], x.columns.values))"
   ]
  },
  {
   "cell_type": "code",
   "execution_count": null,
   "id": "66364236",
   "metadata": {},
   "outputs": [],
   "source": [
    "x.head()"
   ]
  },
  {
   "cell_type": "code",
   "execution_count": null,
   "id": "fc52e60c",
   "metadata": {},
   "outputs": [],
   "source": [
    "limpar = [\"names\", \"composition\"]\n",
    "x = x.drop(limpar, axis=1)\n",
    "limpar = [\"Elongation in 2 in-units\", \"Material Type\", \"Form\"]\n",
    "x = x.drop(limpar, axis=1)\n",
    "x.head()"
   ]
  },
  {
   "cell_type": "code",
   "execution_count": null,
   "id": "5a4be81e",
   "metadata": {},
   "outputs": [],
   "source": [
    "limpar = [\"Elongation in 2 in\", \"Elongation  (8 in)\"]\n",
    "x = x.drop(limpar, axis=1)\n",
    "limpar = [\"Elongation  (8 in)-units\", \"Type\", \"Elongation  (2 in)\"]\n",
    "x = x.drop(limpar, axis=1)\n",
    "x.head()"
   ]
  },
  {
   "cell_type": "code",
   "execution_count": null,
   "id": "bf56ae8f",
   "metadata": {},
   "outputs": [],
   "source": [
    "#cria um modelo simples\n",
    "x = x.fillna(-1)\n",
    "lr = LinearRegression()\n",
    "lr.fit(x, y)\n",
    "print('training R2 = ' + str(round(lr.score(x, y), 3)))\n",
    "print('training RMSE = %.3f' % np.sqrt(mean_squared_error(y_true=y, y_pred=lr.predict(x))))"
   ]
  },
  {
   "cell_type": "code",
   "execution_count": null,
   "id": "e6e761fd",
   "metadata": {},
   "outputs": [],
   "source": [
    "#10-fold cross validation (90% training, 10% test)\n",
    "crossvalidation = KFold(n_splits=10, shuffle=True, random_state=1)\n",
    "scores = cross_val_score(lr, x, y, scoring='neg_mean_squared_error', cv=crossvalidation, n_jobs=1)\n",
    "rmse_scores = [np.sqrt(abs(s)) for s in scores]\n",
    "r2_scores = cross_val_score(lr, x, y, scoring='r2', cv=crossvalidation, n_jobs=1)\n",
    "\n",
    "print('Cross-validation results:')\n",
    "print('Folds: %i, mean R2: %.3f' % (len(scores), np.mean(np.abs(r2_scores))))\n",
    "print('Folds: %i, mean RMSE: %.3f' % (len(scores), np.mean(np.abs(rmse_scores))))"
   ]
  },
  {
   "cell_type": "code",
   "execution_count": null,
   "id": "d51c1153",
   "metadata": {},
   "outputs": [],
   "source": [
    "print(y)\n",
    "y_pred = lr.predict(x)\n",
    "print(y_pred)"
   ]
  },
  {
   "cell_type": "code",
   "execution_count": null,
   "id": "294b19e1",
   "metadata": {},
   "outputs": [],
   "source": [
    "#visualização\n",
    "pf = PlotlyFig(x_title='Elongation (lb/pol)',\n",
    "               y_title='Previsão (lb/pol)',\n",
    "               title='Regressão linear',\n",
    "               mode='notebook',\n",
    "               filename=\"lr_regression.html\")\n",
    "\n",
    "pf.xy(xy_pairs=[(y, cross_val_predict(lr, x, y, cv=crossvalidation)), ([5, 40], [5, 40])], \n",
    "     modes=['markers', 'lines'],\n",
    "      lines=[{}, {'color': 'black', 'dash': 'dash'}], \n",
    "      showlegends=False\n",
    "     )"
   ]
  },
  {
   "cell_type": "code",
   "execution_count": null,
   "id": "ecde86dd",
   "metadata": {},
   "outputs": [],
   "source": [
    "x.head()"
   ]
  },
  {
   "cell_type": "code",
   "execution_count": null,
   "id": "4f802a19",
   "metadata": {},
   "outputs": [],
   "source": [
    "#previsão\n",
    "prev = pd.DataFrame({'Tensile Strength':[50000],\n",
    "                      'Yield Strength':[25000],\n",
    "                      'Reduction in Area':[63],\n",
    "                      'Hardness':[20],\n",
    "                      'Impact Strength':[45],\n",
    "                      'Elongation in 2 in':[-1],'Elongation (8 in)':[-1], 'Elongation (8 in)-units':[-1],\n",
    "                      'Type':[-1],\n",
    "                      'Elongation (2 in)':[-1]})"
   ]
  },
  {
   "cell_type": "code",
   "execution_count": null,
   "id": "7403d416",
   "metadata": {},
   "outputs": [],
   "source": [
    "prev.head()"
   ]
  },
  {
   "cell_type": "code",
   "execution_count": null,
   "id": "79cd3e15",
   "metadata": {},
   "outputs": [],
   "source": [
    "elong = lr.predict(prev)"
   ]
  },
  {
   "cell_type": "code",
   "execution_count": null,
   "id": "214cc238",
   "metadata": {},
   "outputs": [],
   "source": [
    "print(elong)"
   ]
  },
  {
   "cell_type": "code",
   "execution_count": null,
   "id": "a6ba2eb1",
   "metadata": {},
   "outputs": [],
   "source": [
    "#Vamos fazer o modelo usando Support Vector Machines (SVM)\n",
    "# SVM RBF\n",
    "svr_rbf = SVR(kernel=\"poly\", C=10, gamma='scale',degree=1, max_iter = 1000)"
   ]
  },
  {
   "cell_type": "code",
   "execution_count": null,
   "id": "6a22f128",
   "metadata": {},
   "outputs": [],
   "source": [
    "print(x)\n",
    "print(y)"
   ]
  },
  {
   "cell_type": "code",
   "execution_count": null,
   "id": "291c78ed",
   "metadata": {},
   "outputs": [],
   "source": [
    "#normalizar os dados para SVM\n",
    "#norm = [np.log(i) for i in y]\n",
    "#print(norm) \n"
   ]
  },
  {
   "cell_type": "code",
   "execution_count": null,
   "id": "c5cab8d3",
   "metadata": {},
   "outputs": [],
   "source": [
    "#divide em treino e teste\n",
    "x_train, x_test, y_train, y_test = train_test_split(x, y, test_size=0.10, random_state=21)"
   ]
  },
  {
   "cell_type": "code",
   "execution_count": null,
   "id": "8bd71747",
   "metadata": {},
   "outputs": [],
   "source": [
    "print(y_train)\n",
    "print(y_test)"
   ]
  },
  {
   "cell_type": "code",
   "execution_count": null,
   "id": "1c35cea6",
   "metadata": {},
   "outputs": [],
   "source": [
    "svr_rbf.fit(x_train,y_train)\n",
    "pred = svr_rbf.predict(x_test)"
   ]
  },
  {
   "cell_type": "code",
   "execution_count": null,
   "id": "aa01d92d",
   "metadata": {},
   "outputs": [],
   "source": [
    "print(pred)\n",
    "print(y_test)"
   ]
  },
  {
   "cell_type": "code",
   "execution_count": null,
   "id": "2dc9a1c3",
   "metadata": {},
   "outputs": [],
   "source": [
    "print(svr_rbf.score(x_train,y_train))"
   ]
  },
  {
   "cell_type": "code",
   "execution_count": null,
   "id": "2855759e",
   "metadata": {},
   "outputs": [],
   "source": [
    "print(svr_rbf.score(x_test,y_test))"
   ]
  },
  {
   "cell_type": "code",
   "execution_count": null,
   "id": "fcf964b8",
   "metadata": {},
   "outputs": [],
   "source": [
    "#visualização\n",
    "pf = PlotlyFig(x_title='Elongation (lb/pol)',\n",
    "               y_title='Previsão (lb/pol)',\n",
    "               title='Support Vector Machines',\n",
    "               mode='notebook',\n",
    "               filename=\"lr_regression.html\")\n",
    "\n",
    "pf.xy(xy_pairs=[(y_test, pred), ([5, 40], [5, 40])], \n",
    "     modes=['markers', 'lines'],\n",
    "      lines=[{}, {'color': 'black', 'dash': 'dash'}], \n",
    "      showlegends=False\n",
    "     )\n",
    "\n"
   ]
  },
  {
   "cell_type": "code",
   "execution_count": null,
   "id": "48fd066e",
   "metadata": {},
   "outputs": [],
   "source": [
    "crossvalidation = KFold(n_splits=10, shuffle=True, random_state=1)\n",
    "svr_rbf.fit(x,y)\n",
    "scores = cross_val_score(svr_rbf, x, y, scoring='neg_mean_squared_error', cv=crossvalidation, n_jobs=1)\n",
    "rmse_scores = [np.sqrt(abs(s)) for s in scores]\n",
    "r2_scores = cross_val_score(svr_rbf, x, y, scoring='r2', cv=crossvalidation, n_jobs=1)\n",
    "\n",
    "print('Cross-validation results:')\n",
    "print('Folds: %i, mean R2: %.3f' % (len(scores), np.mean(np.abs(r2_scores))))\n",
    "print('Folds: %i, mean RMSE: %.3f' % (len(scores), np.mean(np.abs(rmse_scores))))"
   ]
  },
  {
   "cell_type": "code",
   "execution_count": null,
   "id": "420f5b5b",
   "metadata": {},
   "outputs": [],
   "source": [
    "#visualização\n",
    "pf = PlotlyFig(x_title='Elongation (lb/pol)',\n",
    "               y_title='Previsão (lb/pol)',\n",
    "               title='Support Vector Machines',\n",
    "               mode='notebook',\n",
    "               filename=\"lr_regression.html\")\n",
    "\n",
    "pf.xy(xy_pairs=[(y, pred), ([5, 40], [5, 40])], \n",
    "     modes=['markers', 'lines'],\n",
    "      lines=[{}, {'color': 'black', 'dash': 'dash'}], \n",
    "      showlegends=False\n",
    "     )"
   ]
  },
  {
   "cell_type": "code",
   "execution_count": null,
   "id": "a2a24fea",
   "metadata": {},
   "outputs": [],
   "source": [
    "pred = svr_rbf.predict(x)"
   ]
  },
  {
   "cell_type": "code",
   "execution_count": null,
   "id": "f52b71a6",
   "metadata": {},
   "outputs": [],
   "source": [
    "print(pred)\n",
    "print(y)"
   ]
  },
  {
   "cell_type": "code",
   "execution_count": null,
   "id": "0d49c89f",
   "metadata": {},
   "outputs": [],
   "source": [
    "#previsão\n",
    "prev = pd.DataFrame({'Tensile Strength':[50000],\n",
    "                      'Yield Strength':[25000],\n",
    "                      'Reduction in Area':[63],\n",
    "                      'Hardness':[20],\n",
    "                      'Impact Strength':[45],\n",
    "                      'Elongation in 2 in':[-1],'Elongation (8 in)':[-1], 'Elongation (8 in)-units':[-1],\n",
    "                      'Type':[-1],\n",
    "                      'Elongation (2 in)':[-1]})\n",
    "elong1 = svr_rbf.predict(prev)\n",
    "print(elong1)"
   ]
  },
  {
   "cell_type": "code",
   "execution_count": null,
   "id": "cd30b6bf",
   "metadata": {},
   "outputs": [],
   "source": [
    "#SVM com kernel polynomial\n",
    "#SVM polinomial\n",
    "svr_poly = SVR(kernel=\"poly\", C=1, gamma=0.1, epsilon=0.1, coef0=1)"
   ]
  },
  {
   "cell_type": "code",
   "execution_count": null,
   "id": "4d75a731",
   "metadata": {},
   "outputs": [],
   "source": [
    "svr_poly.fit(x,y)\n",
    "pred = svr_poly.predict(x)\n",
    "print(y)\n",
    "print(pred)"
   ]
  },
  {
   "cell_type": "code",
   "execution_count": null,
   "id": "401be9a1",
   "metadata": {},
   "outputs": [],
   "source": [
    "crossvalidation = KFold(n_splits=10, shuffle=True, random_state=1)\n",
    "svr_poly.fit(x,y)\n",
    "scores = cross_val_score(svr_rbf, x, y, scoring='neg_mean_squared_error', cv=crossvalidation, n_jobs=1)\n",
    "rmse_scores = [np.sqrt(abs(s)) for s in scores]\n",
    "r2_scores = cross_val_score(svr_rbf, x, y, scoring='r2', cv=crossvalidation, n_jobs=1)\n",
    "\n",
    "print('Cross-validation results:')\n",
    "print('Folds: %i, mean R2: %.3f' % (len(scores), np.mean(np.abs(r2_scores))))\n",
    "print('Folds: %i, mean RMSE: %.3f' % (len(scores), np.mean(np.abs(rmse_scores))))"
   ]
  },
  {
   "cell_type": "code",
   "execution_count": null,
   "id": "d3cea4e7",
   "metadata": {},
   "outputs": [],
   "source": [
    "#visualização\n",
    "pf = PlotlyFig(x_title='Elongation (lb/pol)',\n",
    "               y_title='Previsão (lb/pol)',\n",
    "               title='Support Vector Machines',\n",
    "               mode='notebook',\n",
    "               filename=\"lr_regression.html\")\n",
    "\n",
    "pf.xy(xy_pairs=[(y, pred), ([5, 40], [5, 40])], \n",
    "     modes=['markers', 'lines'],\n",
    "      lines=[{}, {'color': 'black', 'dash': 'dash'}], \n",
    "      showlegends=False\n",
    "     )"
   ]
  }
 ],
 "metadata": {
  "kernelspec": {
   "display_name": "Python 3",
   "language": "python",
   "name": "python3"
  },
  "language_info": {
   "codemirror_mode": {
    "name": "ipython",
    "version": 3
   },
   "file_extension": ".py",
   "mimetype": "text/x-python",
   "name": "python",
   "nbconvert_exporter": "python",
   "pygments_lexer": "ipython3",
   "version": "3.8.8"
  }
 },
 "nbformat": 4,
 "nbformat_minor": 5
}
