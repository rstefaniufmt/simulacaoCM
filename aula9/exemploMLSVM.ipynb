{
 "cells": [
  {
   "cell_type": "markdown",
   "metadata": {},
   "source": [
    "# Usando o MatMiner e Python para treinar SVM de dados\n",
    "##Este notebook é uma continuação do anterior e agora vamos ver visualizar e ao mesmo tempo trabalhar com os dados obtidos.\n",
    "\n"
   ]
  },
  {
   "cell_type": "code",
   "execution_count": null,
   "metadata": {},
   "outputs": [],
   "source": [
    "from platform import python_version\n",
    "from matminer.data_retrieval.retrieve_MP import MPDataRetrieval\n",
    "from matminer.data_retrieval.retrieve_Citrine import CitrineDataRetrieval\n",
    "from matminer.datasets import load_dataset\n",
    "from figrecipes import PlotlyFig #pacote para gráficos\n",
    "\n",
    "#pacotes para ML\n",
    "from sklearn.linear_model import LinearRegression\n",
    "from sklearn.metrics import mean_squared_error\n",
    "from sklearn.model_selection import KFold, cross_val_score\n",
    "from sklearn.model_selection import cross_val_predict\n",
    "\n",
    "#pacotes para SVM\n",
    "from sklearn.svm import SVR\n",
    "from sklearn.model_selection import GridSearchCV\n",
    "\n",
    "\n",
    "#computação cientifica e tabelas\n",
    "import numpy as np\n",
    "import pandas as pd\n",
    "import matplotlib.pyplot as plt\n",
    "\n",
    "print(python_version())"
   ]
  },
  {
   "cell_type": "code",
   "execution_count": null,
   "metadata": {},
   "outputs": [],
   "source": [
    "#importa dados do repositorio Citrine\n",
    "ct = CitrineDataRetrieval(\"xT5QPhsWvXFYHn7P7XeqJQtt\")\n",
    "dc = ct.get_dataframe(criteria={'data_set_id': 154544, 'max_results':550})\n",
    "#limpeza de dados\n",
    "dc = dc.drop(columns = ['Elongation-units', 'Yield Strength-units' , 'Hardness-units', 'Size-units', 'Tensile Strength-units','references', 'Material Type-references','Elongation  (2 in)-units', 'Type-references', 'Yield Strength-conditions', 'ids', 'contacts', 'Reduction in Area-units', 'Impact Strength-units', 'preparation', 'Size', 'Elongation  (8 in)-references', 'Hardness-references', 'Impact Strength-references'])\n",
    "dc.head()\n"
   ]
  },
  {
   "cell_type": "code",
   "execution_count": null,
   "metadata": {},
   "outputs": [],
   "source": [
    "#inicio da visualização\n",
    "plt = PlotlyFig(dc, x_title='Tensile Strength (Pa)', \n",
    "               y_title='Total', mode='notebook')\n",
    "plt.histogram(dc['Tensile Strength'])\n",
    "plt = PlotlyFig(dc, x_title='Tensile Strength (Pa)', \n",
    "               y_title='Elongation (lb/pol)', mode='notebook')\n",
    "plt.xy(('Tensile Strength', 'Elongation'))\n",
    "dc = dc.fillna(-1)\n",
    "dc.head()"
   ]
  },
  {
   "cell_type": "code",
   "execution_count": null,
   "metadata": {},
   "outputs": [],
   "source": [
    "#converte para números\n",
    "dc['Tensile Strength'] = pd.to_numeric(dc['Tensile Strength'])\n",
    "dc['Elongation'] = pd.to_numeric(dc['Elongation'])\n",
    "\n",
    "#filtra os dados\n",
    "dc = dc[dc['Tensile Strength'] > 1000]\n",
    "dc = dc[dc['Elongation'] > 0]\n",
    "dc.head()\n",
    "dc.describe()\n"
   ]
  },
  {
   "cell_type": "code",
   "execution_count": null,
   "metadata": {},
   "outputs": [],
   "source": [
    "plt = PlotlyFig(dc, x_title='Tensile Strength (Pa)', \n",
    "y_title='Elongation (lb/pol)', mode='notebook')\n",
    "plt.xy(('Tensile Strength', 'Elongation'))"
   ]
  },
  {
   "cell_type": "code",
   "execution_count": null,
   "metadata": {},
   "outputs": [],
   "source": [
    "#prepara os dados para ML\n",
    "y = dc['Elongation'].values #valores a treinar\n",
    "x = dc.drop('Elongation', axis=1) #descritores\n",
    "print(y) \n",
    "print(\"Há {} Descritores possíveis:\\n\\n{}\".format(x.shape[1], x.columns.values))"
   ]
  },
  {
   "cell_type": "code",
   "execution_count": null,
   "metadata": {},
   "outputs": [],
   "source": [
    "x.head()"
   ]
  },
  {
   "cell_type": "code",
   "execution_count": null,
   "metadata": {},
   "outputs": [],
   "source": [
    "limpar = [\"names\", \"composition\"]\n",
    "x = x.drop(limpar, axis=1)\n",
    "limpar = [\"Elongation in 2 in-units\", \"Material Type\", \"Form\"]\n",
    "x = x.drop(limpar, axis=1)\n",
    "x.head()"
   ]
  },
  {
   "cell_type": "code",
   "execution_count": null,
   "metadata": {},
   "outputs": [],
   "source": [
    "#cria um modelo simples\n",
    "x = x.fillna(-1)\n",
    "lr = LinearRegression()\n",
    "lr.fit(x, y)\n",
    "print('training R2 = ' + str(round(lr.score(x, y), 3)))\n",
    "print('training RMSE = %.3f' % np.sqrt(mean_squared_error(y_true=y, y_pred=lr.predict(x))))"
   ]
  },
  {
   "cell_type": "code",
   "execution_count": null,
   "metadata": {},
   "outputs": [],
   "source": [
    "#10-fold cross validation (90% training, 10% test)\n",
    "crossvalidation = KFold(n_splits=10, shuffle=True, random_state=1)\n",
    "scores = cross_val_score(lr, x, y, scoring='neg_mean_squared_error', cv=crossvalidation, n_jobs=1)\n",
    "rmse_scores = [np.sqrt(abs(s)) for s in scores]\n",
    "r2_scores = cross_val_score(lr, x, y, scoring='r2', cv=crossvalidation, n_jobs=1)\n",
    "\n",
    "print('Cross-validation results:')\n",
    "print('Folds: %i, mean R2: %.3f' % (len(scores), np.mean(np.abs(r2_scores))))\n",
    "print('Folds: %i, mean RMSE: %.3f' % (len(scores), np.mean(np.abs(rmse_scores))))"
   ]
  },
  {
   "cell_type": "code",
   "execution_count": null,
   "metadata": {},
   "outputs": [],
   "source": [
    "print(y)\n",
    "y_pred = lr.predict(x)\n",
    "print(y_pred)"
   ]
  },
  {
   "cell_type": "code",
   "execution_count": null,
   "metadata": {},
   "outputs": [],
   "source": [
    "#visualização\n",
    "pf = PlotlyFig(x_title='Elongation (lb/pol)',\n",
    "               y_title='Previsão (lb/pol)',\n",
    "               title='Regressão linear',\n",
    "               mode='notebook',\n",
    "               filename=\"lr_regression.html\")\n",
    "\n",
    "pf.xy(xy_pairs=[(y, cross_val_predict(lr, x, y, cv=crossvalidation)), ([5, 40], [5, 40])], \n",
    "     modes=['markers', 'lines'],\n",
    "      lines=[{}, {'color': 'black', 'dash': 'dash'}], \n",
    "      showlegends=False\n",
    "     )"
   ]
  },
  {
   "cell_type": "code",
   "execution_count": null,
   "metadata": {},
   "outputs": [],
   "source": [
    "x.head()"
   ]
  },
  {
   "cell_type": "code",
   "execution_count": null,
   "metadata": {},
   "outputs": [],
   "source": [
    "#previsão\n",
    "prev = pd.DataFrame({'Tensile Strength':[50000],\n",
    "                      'Yield Strength':[25000],\n",
    "                      'Reduction in Area':[63],\n",
    "                      'Hardness':[20],\n",
    "                      'Impact Strength':[45],\n",
    "                      'Elongation in 2 in':[-1],'Elongation (8 in)':[-1], 'Elongation (8 in)-units':[-1],\n",
    "                      'Type':[-1],\n",
    "                      'Elongation (2 in)':[-1]})"
   ]
  },
  {
   "cell_type": "code",
   "execution_count": null,
   "metadata": {},
   "outputs": [],
   "source": [
    "prev.head()"
   ]
  },
  {
   "cell_type": "code",
   "execution_count": null,
   "metadata": {},
   "outputs": [],
   "source": [
    "elong = lr.predict(prev)"
   ]
  },
  {
   "cell_type": "code",
   "execution_count": null,
   "metadata": {},
   "outputs": [],
   "source": [
    "print(elong)"
   ]
  },
  {
   "cell_type": "code",
   "execution_count": null,
   "metadata": {},
   "outputs": [],
   "source": [
    "#Vamos fazer o modelo usando Support Vector Machines (SVM)\n",
    "# SVM RBF\n",
    "svr_rbf = SVR(kernel=\"rbf\", C=20, gamma=0.01, epsilon=0.1)\n"
   ]
  },
  {
   "cell_type": "code",
   "execution_count": null,
   "metadata": {},
   "outputs": [],
   "source": [
    "print(x)\n",
    "print(y)"
   ]
  },
  {
   "cell_type": "code",
   "execution_count": null,
   "metadata": {},
   "outputs": [],
   "source": [
    "#normalizar os dados para SVM\n",
    "norm = [float(i)/max(y) for i in y]\n",
    "print(norm) \n",
    "y = norm"
   ]
  },
  {
   "cell_type": "code",
   "execution_count": null,
   "metadata": {},
   "outputs": [],
   "source": [
    "svr_rbf.fit(x,y)\n",
    "pred = svr_rbf.predict(x)"
   ]
  },
  {
   "cell_type": "code",
   "execution_count": null,
   "metadata": {},
   "outputs": [],
   "source": [
    "print(pred)\n",
    "print(y)"
   ]
  },
  {
   "cell_type": "code",
   "execution_count": null,
   "metadata": {},
   "outputs": [],
   "source": [
    "#visualização\n",
    "pf = PlotlyFig(x_title='Elongation (lb/pol)',\n",
    "               y_title='Previsão (lb/pol)',\n",
    "               title='Support Vector Machines',\n",
    "               mode='notebook',\n",
    "               filename=\"lr_regression.html\")\n",
    "\n",
    "pf.xy(xy_pairs=[(y, pred), ([5, 40], [5, 40])], \n",
    "     modes=['markers', 'lines'],\n",
    "      lines=[{}, {'color': 'black', 'dash': 'dash'}], \n",
    "      showlegends=False\n",
    "     )\n",
    "\n"
   ]
  },
  {
   "cell_type": "code",
   "execution_count": null,
   "metadata": {},
   "outputs": [],
   "source": [
    "crossvalidation = KFold(n_splits=10, shuffle=True, random_state=1)\n",
    "svr_rbf.fit(x,y)\n",
    "scores = cross_val_score(svr_rbf, x, y, scoring='neg_mean_squared_error', cv=crossvalidation, n_jobs=1)\n",
    "rmse_scores = [np.sqrt(abs(s)) for s in scores]\n",
    "r2_scores = cross_val_score(svr_rbf, x, y, scoring='r2', cv=crossvalidation, n_jobs=1)\n",
    "\n",
    "print('Cross-validation results:')\n",
    "print('Folds: %i, mean R2: %.3f' % (len(scores), np.mean(np.abs(r2_scores))))\n",
    "print('Folds: %i, mean RMSE: %.3f' % (len(scores), np.mean(np.abs(rmse_scores))))"
   ]
  },
  {
   "cell_type": "code",
   "execution_count": null,
   "metadata": {},
   "outputs": [],
   "source": [
    "#visualização\n",
    "pf = PlotlyFig(x_title='Elongation (lb/pol)',\n",
    "               y_title='Previsão (lb/pol)',\n",
    "               title='Support Vector Machines',\n",
    "               mode='notebook',\n",
    "               filename=\"lr_regression.html\")\n",
    "\n",
    "pf.xy(xy_pairs=[(y, pred), ([5, 40], [5, 40])], \n",
    "     modes=['markers', 'lines'],\n",
    "      lines=[{}, {'color': 'black', 'dash': 'dash'}], \n",
    "      showlegends=False\n",
    "     )"
   ]
  },
  {
   "cell_type": "code",
   "execution_count": null,
   "metadata": {},
   "outputs": [],
   "source": [
    "pred = svr_rbf.predict(x)"
   ]
  },
  {
   "cell_type": "code",
   "execution_count": null,
   "metadata": {},
   "outputs": [],
   "source": [
    "print(pred)\n",
    "print(y)"
   ]
  },
  {
   "cell_type": "code",
   "execution_count": null,
   "metadata": {},
   "outputs": [],
   "source": [
    "#previsão\n",
    "prev = pd.DataFrame({'Tensile Strength':[50000],\n",
    "                      'Yield Strength':[25000],\n",
    "                      'Reduction in Area':[63],\n",
    "                      'Hardness':[20],\n",
    "                      'Impact Strength':[45],\n",
    "                      'Elongation in 2 in':[-1],'Elongation (8 in)':[-1], 'Elongation (8 in)-units':[-1],\n",
    "                      'Type':[-1],\n",
    "                      'Elongation (2 in)':[-1]})\n",
    "elong1 = svr_rbf.predict(prev)\n",
    "print(elong1)"
   ]
  },
  {
   "cell_type": "code",
   "execution_count": null,
   "metadata": {},
   "outputs": [],
   "source": [
    "#SVM com kernel polynomial\n",
    "#SVM polinomial\n",
    "svr_poly = SVR(kernel=\"poly\", C=1, gamma=0.1, degree=3, epsilon=0.1, coef0=1)"
   ]
  },
  {
   "cell_type": "code",
   "execution_count": null,
   "metadata": {},
   "outputs": [],
   "source": [
    "svr_poly.fit(x,y)\n",
    "pred = svr_poly.predict(x)\n",
    "print(y)\n",
    "print(pred)"
   ]
  },
  {
   "cell_type": "code",
   "execution_count": null,
   "metadata": {},
   "outputs": [],
   "source": [
    "crossvalidation = KFold(n_splits=10, shuffle=True, random_state=1)\n",
    "svr_poly.fit(x,y)\n",
    "scores = cross_val_score(svr_rbf, x, y, scoring='neg_mean_squared_error', cv=crossvalidation, n_jobs=1)\n",
    "rmse_scores = [np.sqrt(abs(s)) for s in scores]\n",
    "r2_scores = cross_val_score(svr_rbf, x, y, scoring='r2', cv=crossvalidation, n_jobs=1)\n",
    "\n",
    "print('Cross-validation results:')\n",
    "print('Folds: %i, mean R2: %.3f' % (len(scores), np.mean(np.abs(r2_scores))))\n",
    "print('Folds: %i, mean RMSE: %.3f' % (len(scores), np.mean(np.abs(rmse_scores))))"
   ]
  },
  {
   "cell_type": "code",
   "execution_count": null,
   "metadata": {},
   "outputs": [],
   "source": [
    "#visualização\n",
    "pf = PlotlyFig(x_title='Elongation (lb/pol)',\n",
    "               y_title='Previsão (lb/pol)',\n",
    "               title='Support Vector Machines',\n",
    "               mode='notebook',\n",
    "               filename=\"lr_regression.html\")\n",
    "\n",
    "pf.xy(xy_pairs=[(y, pred), ([5, 40], [5, 40])], \n",
    "     modes=['markers', 'lines'],\n",
    "      lines=[{}, {'color': 'black', 'dash': 'dash'}], \n",
    "      showlegends=False\n",
    "     )"
   ]
  }
 ],
 "metadata": {
  "kernelspec": {
   "display_name": "Python 3",
   "language": "python",
   "name": "python3"
  },
  "language_info": {
   "codemirror_mode": {
    "name": "ipython",
    "version": 3
   },
   "file_extension": ".py",
   "mimetype": "text/x-python",
   "name": "python",
   "nbconvert_exporter": "python",
   "pygments_lexer": "ipython3",
   "version": "3.6.12"
  }
 },
 "nbformat": 4,
 "nbformat_minor": 5
}
