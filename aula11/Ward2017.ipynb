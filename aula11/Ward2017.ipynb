{
 "cells": [
  {
   "cell_type": "markdown",
   "id": "ad904c16",
   "metadata": {},
   "source": [
    "# Neste Notebook reproduzir resultados de um artigo (Ward, 2017)\n",
    "## pode demorar até duas horas para executar. São muitos dados."
   ]
  },
  {
   "cell_type": "code",
   "execution_count": null,
   "id": "9eb2274f",
   "metadata": {},
   "outputs": [],
   "source": [
    "from platform import python_version\n",
    "\n",
    "from matplotlib import pyplot as plt\n",
    "\n",
    "from figrecipes import PlotlyFig\n",
    "\n",
    "from matminer.datasets import load_dataset\n",
    "from matminer.featurizers.base import MultipleFeaturizer\n",
    "from matminer.featurizers.composition import ElementProperty, Stoichiometry, ValenceOrbital, IonProperty\n",
    "from matminer.featurizers.structure import (SiteStatsFingerprint, StructuralHeterogeneity,\n",
    "                                            ChemicalOrdering, StructureComposition, MaximumPackingEfficiency)\n",
    "from matminer.featurizers.conversions import DictToObject\n",
    "from sklearn.ensemble import RandomForestRegressor\n",
    "from sklearn.model_selection import ShuffleSplit, train_test_split\n",
    "from sklearn.pipeline import Pipeline\n",
    "from sklearn.impute import SimpleImputer\n",
    "from scipy import stats\n",
    "from tqdm import tqdm_notebook as tqdm\n",
    "import numpy as np\n",
    "\n",
    "print(python_version())"
   ]
  },
  {
   "cell_type": "code",
   "execution_count": null,
   "id": "6438eac5",
   "metadata": {},
   "outputs": [],
   "source": [
    "# Temos que calcular os descritores, para isso usamos a ferramenta featurizaer do matminer\n",
    "featurizer = MultipleFeaturizer([\n",
    "    SiteStatsFingerprint.from_preset(\"CoordinationNumber_ward-prb-2017\"),\n",
    "    StructuralHeterogeneity(),\n",
    "    ChemicalOrdering(),\n",
    "    MaximumPackingEfficiency(),\n",
    "    SiteStatsFingerprint.from_preset(\"LocalPropertyDifference_ward-prb-2017\"),\n",
    "    StructureComposition(Stoichiometry()),\n",
    "    StructureComposition(ElementProperty.from_preset(\"magpie\")),\n",
    "    StructureComposition(ValenceOrbital(props=['frac'])),\n",
    "    StructureComposition(IonProperty(fast=True))\n",
    "])"
   ]
  },
  {
   "cell_type": "code",
   "execution_count": null,
   "id": "5e99d231",
   "metadata": {},
   "outputs": [],
   "source": [
    "# carrega os ados que estão online\n",
    "data = load_dataset(\"flla\")\n",
    "print('Loaded {} entries'.format(len(data)))"
   ]
  },
  {
   "cell_type": "code",
   "execution_count": null,
   "id": "d6b8ea35",
   "metadata": {},
   "outputs": [],
   "source": [
    "dto = DictToObject(target_col_id='structure', overwrite_data=True)\n",
    "data = dto.featurize_dataframe(data, 'structure')\n",
    "print('Total de descritores:', len(featurizer.featurize(data['structure'][0])))\n",
    "print('Number of sites in structure:', len(data['structure'][0]))"
   ]
  },
  {
   "cell_type": "code",
   "execution_count": null,
   "id": "d80292b8",
   "metadata": {},
   "outputs": [],
   "source": [
    "X = featurizer.featurize_many(data['structure'], ignore_errors=True)"
   ]
  },
  {
   "cell_type": "code",
   "execution_count": null,
   "id": "a7396e66",
   "metadata": {},
   "outputs": [],
   "source": [
    "#usa numpy para converter em vetor\n",
    "X = np.array(X)\n",
    "print('Input:', X.shape)"
   ]
  },
  {
   "cell_type": "markdown",
   "id": "53265431",
   "metadata": {},
   "source": [
    "# Treina ML"
   ]
  },
  {
   "cell_type": "code",
   "execution_count": null,
   "id": "9cfa056c",
   "metadata": {},
   "outputs": [],
   "source": [
    "model = Pipeline([\n",
    "    ('imputer', SimpleImputer()), # For the failed structures\n",
    "    ('model', RandomForestRegressor(n_estimators=150, n_jobs=-1))\n",
    "])"
   ]
  },
  {
   "cell_type": "code",
   "execution_count": null,
   "id": "f57ec597",
   "metadata": {},
   "outputs": [],
   "source": [
    "model.fit(X, data['formation_energy_per_atom'])"
   ]
  },
  {
   "cell_type": "code",
   "execution_count": null,
   "id": "2d8aec6e",
   "metadata": {},
   "outputs": [],
   "source": [
    "#calcula o erro\n",
    "maes = []\n",
    "for train_ids, test_ids in tqdm(ShuffleSplit(train_size=3000, n_splits=20).split(X)):\n",
    "    # divide em treino e teste\n",
    "    train_X = X[train_ids, :]\n",
    "    train_y = data['formation_energy_per_atom'].iloc[train_ids]\n",
    "    test_X = X[test_ids, :]\n",
    "    test_y = data['formation_energy_per_atom'].iloc[test_ids]\n",
    "    \n",
    "    # Treina\n",
    "    model.fit(train_X, train_y)\n",
    "    \n",
    "    # calcula o erro (MAE)\n",
    "    predict_y = model.predict(test_X)\n",
    "    maes.append(np.abs(test_y - predict_y).mean())"
   ]
  },
  {
   "cell_type": "code",
   "execution_count": null,
   "id": "45fd1551",
   "metadata": {},
   "outputs": [],
   "source": [
    "print('MAE: {:.3f}+/-{:.3f} eV/atom'.format(np.mean(maes), stats.sem(maes)))"
   ]
  },
  {
   "cell_type": "code",
   "execution_count": null,
   "id": "ed37f806",
   "metadata": {},
   "outputs": [],
   "source": [
    "pf_rf = PlotlyFig(x_title='Energia de Formação por átomo (eV)',\n",
    "                  y_title='Energia de Formação por átomo (eV) - previsto',\n",
    "                  title='Energia de Formação',\n",
    "                  mode='notebook',\n",
    "                  filename=\"rf_regression.html\")\n",
    "\n",
    "pf_rf.xy([(test_y, predict_y), ([-5, 2], [-5, 2])], \n",
    "      modes=['markers', 'lines'],\n",
    "      lines=[{}, {'color': 'black', 'dash': 'dash'}], showlegends=False)"
   ]
  },
  {
   "cell_type": "code",
   "execution_count": null,
   "id": "99cd056c",
   "metadata": {},
   "outputs": [],
   "source": []
  }
 ],
 "metadata": {
  "kernelspec": {
   "display_name": "Python 3",
   "language": "python",
   "name": "python3"
  },
  "language_info": {
   "codemirror_mode": {
    "name": "ipython",
    "version": 3
   },
   "file_extension": ".py",
   "mimetype": "text/x-python",
   "name": "python",
   "nbconvert_exporter": "python",
   "pygments_lexer": "ipython3",
   "version": "3.8.8"
  }
 },
 "nbformat": 4,
 "nbformat_minor": 5
}
