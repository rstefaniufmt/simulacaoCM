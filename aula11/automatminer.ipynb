{
 "cells": [
  {
   "cell_type": "markdown",
   "id": "1e3d4dcc",
   "metadata": {},
   "source": [
    "# AUTOMINER: Automatizando ML em Materiais com matminer"
   ]
  },
  {
   "cell_type": "markdown",
   "id": "5bfee1c4",
   "metadata": {},
   "source": [
    "![title](pipe.png)"
   ]
  },
  {
   "cell_type": "code",
   "execution_count": 1,
   "id": "3b59b6a8",
   "metadata": {},
   "outputs": [
    {
     "name": "stderr",
     "output_type": "stream",
     "text": [
      "C:\\Users\\Ricardo\\anaconda3\\lib\\site-packages\\sklearn\\utils\\deprecation.py:144: FutureWarning: The sklearn.metrics.scorer module is  deprecated in version 0.22 and will be removed in version 0.24. The corresponding classes / functions should instead be imported from sklearn.metrics. Anything that cannot be imported from sklearn.metrics is now part of the private API.\n",
      "  warnings.warn(message, FutureWarning)\n",
      "C:\\Users\\Ricardo\\anaconda3\\lib\\site-packages\\sklearn\\utils\\deprecation.py:144: FutureWarning: The sklearn.feature_selection.base module is  deprecated in version 0.22 and will be removed in version 0.24. The corresponding classes / functions should instead be imported from sklearn.feature_selection. Anything that cannot be imported from sklearn.feature_selection is now part of the private API.\n",
      "  warnings.warn(message, FutureWarning)\n",
      "C:\\Users\\Ricardo\\anaconda3\\lib\\site-packages\\sklearn\\utils\\deprecation.py:144: FutureWarning: The sklearn.neighbors.unsupervised module is  deprecated in version 0.22 and will be removed in version 0.24. The corresponding classes / functions should instead be imported from sklearn.neighbors. Anything that cannot be imported from sklearn.neighbors is now part of the private API.\n",
      "  warnings.warn(message, FutureWarning)\n"
     ]
    },
    {
     "name": "stdout",
     "output_type": "stream",
     "text": [
      "3.8.8\n"
     ]
    },
    {
     "name": "stderr",
     "output_type": "stream",
     "text": [
      "C:\\Users\\Ricardo\\anaconda3\\lib\\site-packages\\sklearn\\externals\\joblib\\__init__.py:15: FutureWarning: sklearn.externals.joblib is deprecated in 0.21 and will be removed in 0.23. Please import this functionality directly from joblib, which can be installed with: pip install joblib. If this warning is raised when loading pickled models, you may need to re-serialize those models with scikit-learn 0.21+.\n",
      "  warnings.warn(msg, category=FutureWarning)\n"
     ]
    }
   ],
   "source": [
    "from platform import python_version\n",
    "\n",
    "from matminer.datasets import load_dataset\n",
    "\n",
    "from sklearn.model_selection import train_test_split\n",
    "from sklearn.metrics import mean_absolute_error\n",
    "from sklearn.dummy import DummyRegressor\n",
    "\n",
    "\n",
    "from automatminer import MatPipe\n",
    "\n",
    "from figrecipes import PlotlyFig\n",
    "\n",
    "import pprint\n",
    "\n",
    "print(python_version())"
   ]
  },
  {
   "cell_type": "code",
   "execution_count": 28,
   "id": "60eeb233",
   "metadata": {},
   "outputs": [
    {
     "name": "stdout",
     "output_type": "stream",
     "text": [
      "Fetching matbench_glass.json.gz from https://ndownloader.figshare.com/files/17494637 to C:\\Users\\Ricardo\\anaconda3\\lib\\site-packages\\matminer\\datasets\\matbench_glass.json.gz\n"
     ]
    },
    {
     "data": {
      "text/html": [
       "<div>\n",
       "<style scoped>\n",
       "    .dataframe tbody tr th:only-of-type {\n",
       "        vertical-align: middle;\n",
       "    }\n",
       "\n",
       "    .dataframe tbody tr th {\n",
       "        vertical-align: top;\n",
       "    }\n",
       "\n",
       "    .dataframe thead th {\n",
       "        text-align: right;\n",
       "    }\n",
       "</style>\n",
       "<table border=\"1\" class=\"dataframe\">\n",
       "  <thead>\n",
       "    <tr style=\"text-align: right;\">\n",
       "      <th></th>\n",
       "      <th>composition</th>\n",
       "      <th>gfa</th>\n",
       "    </tr>\n",
       "  </thead>\n",
       "  <tbody>\n",
       "    <tr>\n",
       "      <th>count</th>\n",
       "      <td>5680</td>\n",
       "      <td>5680</td>\n",
       "    </tr>\n",
       "    <tr>\n",
       "      <th>unique</th>\n",
       "      <td>5680</td>\n",
       "      <td>2</td>\n",
       "    </tr>\n",
       "    <tr>\n",
       "      <th>top</th>\n",
       "      <td>Al</td>\n",
       "      <td>True</td>\n",
       "    </tr>\n",
       "    <tr>\n",
       "      <th>freq</th>\n",
       "      <td>1</td>\n",
       "      <td>4035</td>\n",
       "    </tr>\n",
       "  </tbody>\n",
       "</table>\n",
       "</div>"
      ],
      "text/plain": [
       "       composition   gfa\n",
       "count         5680  5680\n",
       "unique        5680     2\n",
       "top             Al  True\n",
       "freq             1  4035"
      ]
     },
     "execution_count": 28,
     "metadata": {},
     "output_type": "execute_result"
    }
   ],
   "source": [
    "df = load_dataset(\"matbench_glass\")\n",
    "df.describe()"
   ]
  },
  {
   "cell_type": "code",
   "execution_count": 29,
   "id": "5f182e8a",
   "metadata": {},
   "outputs": [
    {
     "data": {
      "text/html": [
       "<div>\n",
       "<style scoped>\n",
       "    .dataframe tbody tr th:only-of-type {\n",
       "        vertical-align: middle;\n",
       "    }\n",
       "\n",
       "    .dataframe tbody tr th {\n",
       "        vertical-align: top;\n",
       "    }\n",
       "\n",
       "    .dataframe thead th {\n",
       "        text-align: right;\n",
       "    }\n",
       "</style>\n",
       "<table border=\"1\" class=\"dataframe\">\n",
       "  <thead>\n",
       "    <tr style=\"text-align: right;\">\n",
       "      <th></th>\n",
       "      <th>composition</th>\n",
       "      <th>gfa</th>\n",
       "    </tr>\n",
       "  </thead>\n",
       "  <tbody>\n",
       "    <tr>\n",
       "      <th>0</th>\n",
       "      <td>Al</td>\n",
       "      <td>False</td>\n",
       "    </tr>\n",
       "    <tr>\n",
       "      <th>1</th>\n",
       "      <td>Al(NiB)2</td>\n",
       "      <td>True</td>\n",
       "    </tr>\n",
       "    <tr>\n",
       "      <th>2</th>\n",
       "      <td>Al10Co21B19</td>\n",
       "      <td>True</td>\n",
       "    </tr>\n",
       "    <tr>\n",
       "      <th>3</th>\n",
       "      <td>Al10Co23B17</td>\n",
       "      <td>True</td>\n",
       "    </tr>\n",
       "    <tr>\n",
       "      <th>4</th>\n",
       "      <td>Al10Co27B13</td>\n",
       "      <td>True</td>\n",
       "    </tr>\n",
       "  </tbody>\n",
       "</table>\n",
       "</div>"
      ],
      "text/plain": [
       "   composition    gfa\n",
       "0           Al  False\n",
       "1     Al(NiB)2   True\n",
       "2  Al10Co21B19   True\n",
       "3  Al10Co23B17   True\n",
       "4  Al10Co27B13   True"
      ]
     },
     "execution_count": 29,
     "metadata": {},
     "output_type": "execute_result"
    }
   ],
   "source": [
    "df.head()"
   ]
  },
  {
   "cell_type": "code",
   "execution_count": 30,
   "id": "537e660b",
   "metadata": {},
   "outputs": [
    {
     "name": "stdout",
     "output_type": "stream",
     "text": [
      "2\n"
     ]
    }
   ],
   "source": [
    "#Quantos registros únicos temos?\n",
    "print(df[\"gfa\"].unique().shape[0])"
   ]
  },
  {
   "cell_type": "code",
   "execution_count": 34,
   "id": "469835df",
   "metadata": {},
   "outputs": [],
   "source": [
    "#divide os dados em treino e teste\n",
    "train_df, test_df = train_test_split(df, test_size=0.2, shuffle=True)"
   ]
  },
  {
   "cell_type": "code",
   "execution_count": 35,
   "id": "fda01930",
   "metadata": {},
   "outputs": [
    {
     "data": {
      "text/html": [
       "<div>\n",
       "<style scoped>\n",
       "    .dataframe tbody tr th:only-of-type {\n",
       "        vertical-align: middle;\n",
       "    }\n",
       "\n",
       "    .dataframe tbody tr th {\n",
       "        vertical-align: top;\n",
       "    }\n",
       "\n",
       "    .dataframe thead th {\n",
       "        text-align: right;\n",
       "    }\n",
       "</style>\n",
       "<table border=\"1\" class=\"dataframe\">\n",
       "  <thead>\n",
       "    <tr style=\"text-align: right;\">\n",
       "      <th></th>\n",
       "      <th>composition</th>\n",
       "    </tr>\n",
       "  </thead>\n",
       "  <tbody>\n",
       "    <tr>\n",
       "      <th>993</th>\n",
       "      <td>Co62.5Si17.5B20</td>\n",
       "    </tr>\n",
       "    <tr>\n",
       "      <th>3020</th>\n",
       "      <td>Mn35Co37B28</td>\n",
       "    </tr>\n",
       "    <tr>\n",
       "      <th>2406</th>\n",
       "      <td>La11AlNi8</td>\n",
       "    </tr>\n",
       "    <tr>\n",
       "      <th>1226</th>\n",
       "      <td>Cr6Co15C4</td>\n",
       "    </tr>\n",
       "    <tr>\n",
       "      <th>5630</th>\n",
       "      <td>ZrCo8Mo</td>\n",
       "    </tr>\n",
       "  </tbody>\n",
       "</table>\n",
       "</div>"
      ],
      "text/plain": [
       "          composition\n",
       "993   Co62.5Si17.5B20\n",
       "3020      Mn35Co37B28\n",
       "2406        La11AlNi8\n",
       "1226        Cr6Co15C4\n",
       "5630          ZrCo8Mo"
      ]
     },
     "execution_count": 35,
     "metadata": {},
     "output_type": "execute_result"
    }
   ],
   "source": [
    "#o que queremos prever ou modelar\n",
    "target = \"gfa\"\n",
    "prediction_df = test_df.drop(columns=[target])\n",
    "prediction_df.head()"
   ]
  },
  {
   "cell_type": "code",
   "execution_count": 36,
   "id": "d3c6c16d",
   "metadata": {},
   "outputs": [
    {
     "data": {
      "text/html": [
       "<div>\n",
       "<style scoped>\n",
       "    .dataframe tbody tr th:only-of-type {\n",
       "        vertical-align: middle;\n",
       "    }\n",
       "\n",
       "    .dataframe tbody tr th {\n",
       "        vertical-align: top;\n",
       "    }\n",
       "\n",
       "    .dataframe thead th {\n",
       "        text-align: right;\n",
       "    }\n",
       "</style>\n",
       "<table border=\"1\" class=\"dataframe\">\n",
       "  <thead>\n",
       "    <tr style=\"text-align: right;\">\n",
       "      <th></th>\n",
       "      <th>composition</th>\n",
       "    </tr>\n",
       "  </thead>\n",
       "  <tbody>\n",
       "    <tr>\n",
       "      <th>count</th>\n",
       "      <td>1136</td>\n",
       "    </tr>\n",
       "    <tr>\n",
       "      <th>unique</th>\n",
       "      <td>1136</td>\n",
       "    </tr>\n",
       "    <tr>\n",
       "      <th>top</th>\n",
       "      <td>Co62.5Si17.5B20</td>\n",
       "    </tr>\n",
       "    <tr>\n",
       "      <th>freq</th>\n",
       "      <td>1</td>\n",
       "    </tr>\n",
       "  </tbody>\n",
       "</table>\n",
       "</div>"
      ],
      "text/plain": [
       "            composition\n",
       "count              1136\n",
       "unique             1136\n",
       "top     Co62.5Si17.5B20\n",
       "freq                  1"
      ]
     },
     "execution_count": 36,
     "metadata": {},
     "output_type": "execute_result"
    }
   ],
   "source": [
    "prediction_df.describe()"
   ]
  },
  {
   "cell_type": "markdown",
   "id": "c67b8e0b",
   "metadata": {},
   "source": [
    "## Seleciona varáveis, limpa NaN e cria os modelos"
   ]
  },
  {
   "cell_type": "code",
   "execution_count": 37,
   "id": "cf7e4e17",
   "metadata": {},
   "outputs": [
    {
     "name": "stderr",
     "output_type": "stream",
     "text": [
      "C:\\Users\\Ricardo\\anaconda3\\lib\\site-packages\\pandas\\io\\parsers\\readers.py:586: ParserWarning: Length of header or names does not match length of data. This leads to a loss of data with index_col=False.\n",
      "  return _read(filepath_or_buffer, kwds)\n"
     ]
    }
   ],
   "source": [
    "#modo expresso. Olhar a documentação para outros modos\n",
    "pipe = MatPipe.from_preset(\"express\")"
   ]
  },
  {
   "cell_type": "code",
   "execution_count": 38,
   "id": "be2d73bd",
   "metadata": {},
   "outputs": [
    {
     "name": "stdout",
     "output_type": "stream",
     "text": [
      "2021-12-01 18:57:09 INFO     Problem type is: classification\n",
      "2021-12-01 18:57:09 INFO     Fitting MatPipe pipeline to data.\n",
      "2021-12-01 18:57:09 INFO     AutoFeaturizer: Starting fitting.\n",
      "2021-12-01 18:57:09 INFO     AutoFeaturizer: Compositions detected as strings. Attempting conversion to Composition objects...\n"
     ]
    },
    {
     "data": {
      "application/vnd.jupyter.widget-view+json": {
       "model_id": "a083cace807547a69834827f6a38dd63",
       "version_major": 2,
       "version_minor": 0
      },
      "text/plain": [
       "StrToComposition:   0%|          | 0/4544 [00:00<?, ?it/s]"
      ]
     },
     "metadata": {},
     "output_type": "display_data"
    },
    {
     "name": "stdout",
     "output_type": "stream",
     "text": [
      "2021-12-01 18:57:16 INFO     AutoFeaturizer: Guessing oxidation states of compositions, as they were not present in input.\n"
     ]
    },
    {
     "data": {
      "application/vnd.jupyter.widget-view+json": {
       "model_id": "94a8f51bb8fd4b57b878873495c7c4c2",
       "version_major": 2,
       "version_minor": 0
      },
      "text/plain": [
       "CompositionToOxidComposition:   0%|          | 0/4544 [00:00<?, ?it/s]"
      ]
     },
     "metadata": {},
     "output_type": "display_data"
    },
    {
     "name": "stdout",
     "output_type": "stream",
     "text": [
      "2021-12-01 19:06:46 INFO     AutoFeaturizer: Featurizer type structure not in the dataframe to be fitted. Skipping...\n",
      "2021-12-01 19:06:46 INFO     AutoFeaturizer: Featurizer type bandstructure not in the dataframe to be fitted. Skipping...\n",
      "2021-12-01 19:06:46 INFO     AutoFeaturizer: Featurizer type dos not in the dataframe to be fitted. Skipping...\n",
      "2021-12-01 19:06:46 INFO     AutoFeaturizer: Finished fitting.\n",
      "2021-12-01 19:06:46 INFO     AutoFeaturizer: Starting transforming.\n",
      "2021-12-01 19:06:46 INFO     AutoFeaturizer: Featurizing with ElementProperty.\n"
     ]
    },
    {
     "data": {
      "application/vnd.jupyter.widget-view+json": {
       "model_id": "08525aaa9fa549efbe7152a8775e4a2d",
       "version_major": 2,
       "version_minor": 0
      },
      "text/plain": [
       "ElementProperty:   0%|          | 0/4544 [00:00<?, ?it/s]"
      ]
     },
     "metadata": {},
     "output_type": "display_data"
    },
    {
     "name": "stdout",
     "output_type": "stream",
     "text": [
      "2021-12-01 19:07:04 INFO     AutoFeaturizer: Featurizing with OxidationStates.\n"
     ]
    },
    {
     "data": {
      "application/vnd.jupyter.widget-view+json": {
       "model_id": "e3b46824f8644d518e6a4857653ac4d8",
       "version_major": 2,
       "version_minor": 0
      },
      "text/plain": [
       "OxidationStates:   0%|          | 0/4544 [00:00<?, ?it/s]"
      ]
     },
     "metadata": {},
     "output_type": "display_data"
    },
    {
     "name": "stdout",
     "output_type": "stream",
     "text": [
      "2021-12-01 19:07:14 INFO     AutoFeaturizer: Featurizing with ElectronAffinity.\n"
     ]
    },
    {
     "data": {
      "application/vnd.jupyter.widget-view+json": {
       "model_id": "d9050e53a3324432bd5a2613ce3cbbcc",
       "version_major": 2,
       "version_minor": 0
      },
      "text/plain": [
       "ElectronAffinity:   0%|          | 0/4544 [00:00<?, ?it/s]"
      ]
     },
     "metadata": {},
     "output_type": "display_data"
    },
    {
     "name": "stdout",
     "output_type": "stream",
     "text": [
      "2021-12-01 19:07:23 INFO     AutoFeaturizer: Featurizing with IonProperty.\n"
     ]
    },
    {
     "data": {
      "application/vnd.jupyter.widget-view+json": {
       "model_id": "f6a386be2d1a463ab6c726e72a63089b",
       "version_major": 2,
       "version_minor": 0
      },
      "text/plain": [
       "IonProperty:   0%|          | 0/4544 [00:00<?, ?it/s]"
      ]
     },
     "metadata": {},
     "output_type": "display_data"
    },
    {
     "name": "stdout",
     "output_type": "stream",
     "text": [
      "2021-12-01 19:07:54 INFO     AutoFeaturizer: Featurizing with YangSolidSolution.\n"
     ]
    },
    {
     "data": {
      "application/vnd.jupyter.widget-view+json": {
       "model_id": "b9331ffd55174225a661d4870325fce6",
       "version_major": 2,
       "version_minor": 0
      },
      "text/plain": [
       "YangSolidSolution:   0%|          | 0/4544 [00:00<?, ?it/s]"
      ]
     },
     "metadata": {},
     "output_type": "display_data"
    },
    {
     "name": "stdout",
     "output_type": "stream",
     "text": [
      "2021-12-01 19:08:02 INFO     AutoFeaturizer: Featurizing with Miedema.\n"
     ]
    },
    {
     "data": {
      "application/vnd.jupyter.widget-view+json": {
       "model_id": "a8b68e50fe6b49a49add1ca20f1882dc",
       "version_major": 2,
       "version_minor": 0
      },
      "text/plain": [
       "Miedema:   0%|          | 0/4544 [00:00<?, ?it/s]"
      ]
     },
     "metadata": {},
     "output_type": "display_data"
    },
    {
     "name": "stdout",
     "output_type": "stream",
     "text": [
      "2021-12-01 19:08:43 INFO     AutoFeaturizer: Featurizer type structure not in the dataframe. Skipping...\n",
      "2021-12-01 19:08:43 INFO     AutoFeaturizer: Featurizer type bandstructure not in the dataframe. Skipping...\n",
      "2021-12-01 19:08:43 INFO     AutoFeaturizer: Featurizer type dos not in the dataframe. Skipping...\n",
      "2021-12-01 19:08:43 INFO     AutoFeaturizer: Finished transforming.\n",
      "2021-12-01 19:08:43 INFO     DataCleaner: Starting fitting.\n",
      "2021-12-01 19:08:43 INFO     DataCleaner: Cleaning with respect to samples with sample na_method 'drop'\n",
      "2021-12-01 19:08:43 INFO     DataCleaner: Replacing infinite values with nan for easier screening.\n",
      "2021-12-01 19:08:43 INFO     DataCleaner: Before handling na: 4544 samples, 146 features\n",
      "2021-12-01 19:08:43 INFO     DataCleaner: 0 samples did not have target values. They were dropped.\n",
      "2021-12-01 19:08:43 INFO     DataCleaner: Handling feature na by max na threshold of 0.01 with method 'drop'.\n",
      "2021-12-01 19:08:44 INFO     DataCleaner: These 8 features were removed as they had more than 1.0% missing values: {'std_dev oxidation state', 'range oxidation state', 'minimum oxidation state', 'avg ionic char', 'maximum oxidation state', 'max ionic char', 'avg anion electron affinity', 'compound possible'}\n",
      "2021-12-01 19:08:44 INFO     DataCleaner: After handling na: 4512 samples, 138 features\n",
      "2021-12-01 19:08:44 INFO     DataCleaner: Finished fitting.\n",
      "2021-12-01 19:08:44 INFO     FeatureReducer: Starting fitting.\n",
      "2021-12-01 19:08:46 INFO     FeatureReducer: 20 features removed due to cross correlation more than 0.95\n",
      "2021-12-01 19:12:15 INFO     TreeFeatureReducer: Finished tree-based feature reduction of 117 initial features to 46\n",
      "2021-12-01 19:12:15 INFO     FeatureReducer: Finished fitting.\n",
      "2021-12-01 19:12:15 INFO     FeatureReducer: Starting transforming.\n",
      "2021-12-01 19:12:15 INFO     FeatureReducer: Finished transforming.\n",
      "2021-12-01 19:12:15 INFO     TPOTAdaptor: Starting fitting.\n"
     ]
    },
    {
     "name": "stderr",
     "output_type": "stream",
     "text": [
      "Version 0.11.0 of tpot is outdated. Version 0.11.7 was released Wednesday January 06, 2021.\n"
     ]
    },
    {
     "name": "stdout",
     "output_type": "stream",
     "text": [
      "29 operators have been imported by TPOT.\n"
     ]
    },
    {
     "data": {
      "application/vnd.jupyter.widget-view+json": {
       "model_id": "8e09a2a9ed0d462685d0d1a010be4e6f",
       "version_major": 2,
       "version_minor": 0
      },
      "text/plain": [
       "Optimization Progress:   0%|          | 0/20 [00:00<?, ?pipeline/s]"
      ]
     },
     "metadata": {},
     "output_type": "display_data"
    },
    {
     "name": "stdout",
     "output_type": "stream",
     "text": [
      "Generation 1 - Current Pareto front scores:\n",
      "-3\t0.8429097854340426\tGradientBoostingClassifier(ZeroCount(SelectPercentile(input_matrix, SelectPercentile__percentile=86)), GradientBoostingClassifier__learning_rate=0.5, GradientBoostingClassifier__max_depth=7, GradientBoostingClassifier__max_features=0.05, GradientBoostingClassifier__min_samples_leaf=16, GradientBoostingClassifier__min_samples_split=14, GradientBoostingClassifier__n_estimators=500, GradientBoostingClassifier__subsample=0.6500000000000001)\n",
      "\n",
      "_pre_test decorator: _random_mutation_operator: num_test=0 Found array with 0 feature(s) (shape=(50, 0)) while a minimum of 1 is required..\n",
      "_pre_test decorator: _random_mutation_operator: num_test=0 Found array with 0 feature(s) (shape=(50, 0)) while a minimum of 1 is required..\n",
      "Generation 2 - Current Pareto front scores:\n",
      "-3\t0.8429097854340426\tGradientBoostingClassifier(ZeroCount(SelectPercentile(input_matrix, SelectPercentile__percentile=86)), GradientBoostingClassifier__learning_rate=0.5, GradientBoostingClassifier__max_depth=7, GradientBoostingClassifier__max_features=0.05, GradientBoostingClassifier__min_samples_leaf=16, GradientBoostingClassifier__min_samples_split=14, GradientBoostingClassifier__n_estimators=500, GradientBoostingClassifier__subsample=0.6500000000000001)\n",
      "\n",
      "\n",
      "60.40 minutes have elapsed. TPOT will close down.\n",
      "TPOT closed during evaluation in one generation.\n",
      "WARNING: TPOT may not provide a good pipeline if TPOT is stopped/interrupted in a early generation.\n",
      "\n",
      "\n",
      "TPOT closed prematurely. Will use the current best pipeline.\n",
      "2021-12-01 20:12:47 INFO     TPOTAdaptor: Finished fitting.\n",
      "2021-12-01 20:12:47 INFO     MatPipe successfully fit.\n"
     ]
    },
    {
     "name": "stderr",
     "output_type": "stream",
     "text": [
      "C:\\Users\\Ricardo\\anaconda3\\lib\\site-packages\\sklearn\\base.py:193: FutureWarning: From version 0.24, get_params will raise an AttributeError if a parameter cannot be retrieved as an instance attribute. Previously it would return None.\n",
      "  warnings.warn('From version 0.24, get_params will raise an '\n"
     ]
    },
    {
     "data": {
      "text/plain": [
       "MatPipe(autofeaturizer=AutoFeaturizer(bandstructure_col=None, cache_src=None,\n",
       "                                      composition_col='composition',\n",
       "                                      do_precheck=True, dos_col='dos',\n",
       "                                      drop_inputs=True, exclude=[],\n",
       "                                      featurizers={'bandstructure': [BandFeaturizer(find_method='nearest',\n",
       "                                                                                    kpoints=None,\n",
       "                                                                                    nbands=2),\n",
       "                                                                     BranchPointEnergy(atol=1e-05,\n",
       "                                                                                       calculate_band_edges=True,\n",
       "                                                                                       n_cb=1,\n",
       "                                                                                       n_vb=1)],\n",
       "                                                   'composition': [ElementPr...\n",
       "        cleaner=DataCleaner(drop_na_targets=True, encode_categories=True,\n",
       "                            encoder='one-hot', feature_na_method='drop',\n",
       "                            max_na_frac=0.01, na_method_fit='drop',\n",
       "                            na_method_transform='fill'),\n",
       "        learner=TPOTAdaptor(),\n",
       "        reducer=FeatureReducer(corr_threshold=0.95, keep_features=None,\n",
       "                               n_pca_features='auto', n_rebate_features=0.3,\n",
       "                               reducers=('corr', 'tree'), remove_features=None,\n",
       "                               tree_importance_percentile=0.99))"
      ]
     },
     "execution_count": 38,
     "metadata": {},
     "output_type": "execute_result"
    }
   ],
   "source": [
    "#treina o modelo\n",
    "pipe.fit(train_df, target)"
   ]
  },
  {
   "cell_type": "code",
   "execution_count": 39,
   "id": "d143bb7a",
   "metadata": {},
   "outputs": [
    {
     "name": "stdout",
     "output_type": "stream",
     "text": [
      "2021-12-01 20:12:47 INFO     Beginning MatPipe prediction using fitted pipeline.\n",
      "2021-12-01 20:12:47 INFO     AutoFeaturizer: Starting transforming.\n",
      "2021-12-01 20:12:47 INFO     AutoFeaturizer: Compositions detected as strings. Attempting conversion to Composition objects...\n"
     ]
    },
    {
     "data": {
      "application/vnd.jupyter.widget-view+json": {
       "model_id": "e3b3494d7a4144e884a1ba493ec5a179",
       "version_major": 2,
       "version_minor": 0
      },
      "text/plain": [
       "StrToComposition:   0%|          | 0/1136 [00:00<?, ?it/s]"
      ]
     },
     "metadata": {},
     "output_type": "display_data"
    },
    {
     "name": "stdout",
     "output_type": "stream",
     "text": [
      "2021-12-01 20:12:54 INFO     AutoFeaturizer: Guessing oxidation states of compositions, as they were not present in input.\n"
     ]
    },
    {
     "data": {
      "application/vnd.jupyter.widget-view+json": {
       "model_id": "1b10e95f91a54f20a82283ca6be03562",
       "version_major": 2,
       "version_minor": 0
      },
      "text/plain": [
       "CompositionToOxidComposition:   0%|          | 0/1136 [00:00<?, ?it/s]"
      ]
     },
     "metadata": {},
     "output_type": "display_data"
    },
    {
     "name": "stdout",
     "output_type": "stream",
     "text": [
      "2021-12-01 20:14:54 INFO     AutoFeaturizer: Featurizing with ElementProperty.\n"
     ]
    },
    {
     "data": {
      "application/vnd.jupyter.widget-view+json": {
       "model_id": "44cc8f87ff8c410a9473073597f0250d",
       "version_major": 2,
       "version_minor": 0
      },
      "text/plain": [
       "ElementProperty:   0%|          | 0/1136 [00:00<?, ?it/s]"
      ]
     },
     "metadata": {},
     "output_type": "display_data"
    },
    {
     "name": "stdout",
     "output_type": "stream",
     "text": [
      "2021-12-01 20:15:03 INFO     AutoFeaturizer: Featurizing with OxidationStates.\n"
     ]
    },
    {
     "data": {
      "application/vnd.jupyter.widget-view+json": {
       "model_id": "97cb0a28cc954c9c88161073a5346a92",
       "version_major": 2,
       "version_minor": 0
      },
      "text/plain": [
       "OxidationStates:   0%|          | 0/1136 [00:00<?, ?it/s]"
      ]
     },
     "metadata": {},
     "output_type": "display_data"
    },
    {
     "name": "stdout",
     "output_type": "stream",
     "text": [
      "2021-12-01 20:15:15 INFO     AutoFeaturizer: Featurizing with ElectronAffinity.\n"
     ]
    },
    {
     "data": {
      "application/vnd.jupyter.widget-view+json": {
       "model_id": "9ff1fdcb440a49578b70689051132035",
       "version_major": 2,
       "version_minor": 0
      },
      "text/plain": [
       "ElectronAffinity:   0%|          | 0/1136 [00:00<?, ?it/s]"
      ]
     },
     "metadata": {},
     "output_type": "display_data"
    },
    {
     "name": "stdout",
     "output_type": "stream",
     "text": [
      "2021-12-01 20:15:24 INFO     AutoFeaturizer: Featurizing with IonProperty.\n"
     ]
    },
    {
     "data": {
      "application/vnd.jupyter.widget-view+json": {
       "model_id": "4733ceaac0664090a27f624efc3f0035",
       "version_major": 2,
       "version_minor": 0
      },
      "text/plain": [
       "IonProperty:   0%|          | 0/1136 [00:00<?, ?it/s]"
      ]
     },
     "metadata": {},
     "output_type": "display_data"
    },
    {
     "name": "stdout",
     "output_type": "stream",
     "text": [
      "2021-12-01 20:15:37 INFO     AutoFeaturizer: Featurizing with YangSolidSolution.\n"
     ]
    },
    {
     "data": {
      "application/vnd.jupyter.widget-view+json": {
       "model_id": "1043a4a3f8194584b52ad7c3bbb8bd11",
       "version_major": 2,
       "version_minor": 0
      },
      "text/plain": [
       "YangSolidSolution:   0%|          | 0/1136 [00:00<?, ?it/s]"
      ]
     },
     "metadata": {},
     "output_type": "display_data"
    },
    {
     "name": "stdout",
     "output_type": "stream",
     "text": [
      "2021-12-01 20:15:45 INFO     AutoFeaturizer: Featurizing with Miedema.\n"
     ]
    },
    {
     "data": {
      "application/vnd.jupyter.widget-view+json": {
       "model_id": "084a9f1e387c4472b3a846b2e82bd5e4",
       "version_major": 2,
       "version_minor": 0
      },
      "text/plain": [
       "Miedema:   0%|          | 0/1136 [00:00<?, ?it/s]"
      ]
     },
     "metadata": {},
     "output_type": "display_data"
    },
    {
     "name": "stdout",
     "output_type": "stream",
     "text": [
      "2021-12-01 20:15:59 INFO     AutoFeaturizer: Featurizer type structure not in the dataframe. Skipping...\n",
      "2021-12-01 20:15:59 INFO     AutoFeaturizer: Featurizer type bandstructure not in the dataframe. Skipping...\n",
      "2021-12-01 20:15:59 INFO     AutoFeaturizer: Featurizer type dos not in the dataframe. Skipping...\n",
      "2021-12-01 20:15:59 INFO     AutoFeaturizer: Finished transforming.\n",
      "2021-12-01 20:15:59 INFO     DataCleaner: Starting transforming.\n",
      "2021-12-01 20:15:59 INFO     DataCleaner: Cleaning with respect to samples with sample na_method 'fill'\n",
      "2021-12-01 20:15:59 INFO     DataCleaner: Replacing infinite values with nan for easier screening.\n",
      "2021-12-01 20:15:59 INFO     DataCleaner: Before handling na: 1136 samples, 145 features\n",
      "2021-12-01 20:15:59 WARNING  DataCleaner: Mismatched columns found in dataframe used for fitting and argument dataframe.\n",
      "2021-12-01 20:16:00 WARNING  DataCleaner: Coercing mismatched columns...\n",
      "2021-12-01 20:16:00 WARNING  DataCleaner: Following columns are being dropped:\n",
      "['minimum oxidation state', 'maximum oxidation state', 'range oxidation state', 'std_dev oxidation state', 'avg anion electron affinity', 'compound possible', 'max ionic char', 'avg ionic char']\n",
      "2021-12-01 20:16:00 INFO     DataCleaner: After handling na: 1136 samples, 137 features\n",
      "2021-12-01 20:16:00 INFO     DataCleaner: Target not found in df columns. Ignoring...\n",
      "2021-12-01 20:16:00 INFO     DataCleaner: Finished transforming.\n",
      "2021-12-01 20:16:00 INFO     FeatureReducer: Starting transforming.\n",
      "2021-12-01 20:16:00 WARNING  FeatureReducer: Target not found in columns to transform.\n",
      "2021-12-01 20:16:00 INFO     FeatureReducer: Finished transforming.\n",
      "2021-12-01 20:16:00 INFO     TPOTAdaptor: Starting predicting.\n",
      "2021-12-01 20:16:00 INFO     TPOTAdaptor: Prediction finished successfully.\n",
      "2021-12-01 20:16:00 INFO     TPOTAdaptor: Finished predicting.\n",
      "2021-12-01 20:16:00 INFO     MatPipe prediction completed.\n"
     ]
    }
   ],
   "source": [
    "#testa previsão\n",
    "prediction_df = pipe.predict(prediction_df)"
   ]
  },
  {
   "cell_type": "markdown",
   "id": "7358f45c",
   "metadata": {},
   "source": [
    "# # Examina as previsões, início da análise dos resultados"
   ]
  },
  {
   "cell_type": "code",
   "execution_count": 40,
   "id": "997182db",
   "metadata": {},
   "outputs": [
    {
     "data": {
      "text/html": [
       "<div>\n",
       "<style scoped>\n",
       "    .dataframe tbody tr th:only-of-type {\n",
       "        vertical-align: middle;\n",
       "    }\n",
       "\n",
       "    .dataframe tbody tr th {\n",
       "        vertical-align: top;\n",
       "    }\n",
       "\n",
       "    .dataframe thead th {\n",
       "        text-align: right;\n",
       "    }\n",
       "</style>\n",
       "<table border=\"1\" class=\"dataframe\">\n",
       "  <thead>\n",
       "    <tr style=\"text-align: right;\">\n",
       "      <th></th>\n",
       "      <th>MagpieData mean Number</th>\n",
       "      <th>MagpieData mean MendeleevNumber</th>\n",
       "      <th>MagpieData avg_dev MendeleevNumber</th>\n",
       "      <th>MagpieData range AtomicWeight</th>\n",
       "      <th>MagpieData avg_dev AtomicWeight</th>\n",
       "      <th>MagpieData range MeltingT</th>\n",
       "      <th>MagpieData mean MeltingT</th>\n",
       "      <th>MagpieData avg_dev MeltingT</th>\n",
       "      <th>MagpieData mean Column</th>\n",
       "      <th>MagpieData avg_dev Column</th>\n",
       "      <th>...</th>\n",
       "      <th>MagpieData mean GSmagmom</th>\n",
       "      <th>MagpieData avg_dev GSmagmom</th>\n",
       "      <th>MagpieData mean SpaceGroupNumber</th>\n",
       "      <th>MagpieData avg_dev SpaceGroupNumber</th>\n",
       "      <th>Yang omega</th>\n",
       "      <th>Yang delta</th>\n",
       "      <th>Miedema_deltaH_inter</th>\n",
       "      <th>Miedema_deltaH_amor</th>\n",
       "      <th>Miedema_deltaH_ss_min</th>\n",
       "      <th>gfa predicted</th>\n",
       "    </tr>\n",
       "  </thead>\n",
       "  <tbody>\n",
       "    <tr>\n",
       "      <th>993</th>\n",
       "      <td>20.325</td>\n",
       "      <td>64.30</td>\n",
       "      <td>7.8750</td>\n",
       "      <td>48.122195</td>\n",
       "      <td>18.778482</td>\n",
       "      <td>661.00</td>\n",
       "      <td>1869.8250</td>\n",
       "      <td>191.2700</td>\n",
       "      <td>10.675</td>\n",
       "      <td>2.09375</td>\n",
       "      <td>...</td>\n",
       "      <td>0.967795</td>\n",
       "      <td>0.725846</td>\n",
       "      <td>194.175</td>\n",
       "      <td>11.48875</td>\n",
       "      <td>0.467952</td>\n",
       "      <td>0.126839</td>\n",
       "      <td>-0.212328</td>\n",
       "      <td>-0.112353</td>\n",
       "      <td>-0.081354</td>\n",
       "      <td>1</td>\n",
       "    </tr>\n",
       "    <tr>\n",
       "      <th>3020</th>\n",
       "      <td>20.140</td>\n",
       "      <td>59.82</td>\n",
       "      <td>6.8208</td>\n",
       "      <td>48.122195</td>\n",
       "      <td>18.619820</td>\n",
       "      <td>829.00</td>\n",
       "      <td>1843.2500</td>\n",
       "      <td>282.6600</td>\n",
       "      <td>9.420</td>\n",
       "      <td>2.00480</td>\n",
       "      <td>...</td>\n",
       "      <td>0.573043</td>\n",
       "      <td>0.721817</td>\n",
       "      <td>194.210</td>\n",
       "      <td>15.95300</td>\n",
       "      <td>0.667104</td>\n",
       "      <td>0.156991</td>\n",
       "      <td>-0.577483</td>\n",
       "      <td>-0.422023</td>\n",
       "      <td>-0.346140</td>\n",
       "      <td>1</td>\n",
       "    </tr>\n",
       "    <tr>\n",
       "      <th>2406</th>\n",
       "      <td>43.200</td>\n",
       "      <td>35.20</td>\n",
       "      <td>24.4200</td>\n",
       "      <td>111.923931</td>\n",
       "      <td>41.449127</td>\n",
       "      <td>794.53</td>\n",
       "      <td>1394.0235</td>\n",
       "      <td>267.1812</td>\n",
       "      <td>6.300</td>\n",
       "      <td>3.63000</td>\n",
       "      <td>...</td>\n",
       "      <td>0.238158</td>\n",
       "      <td>0.285789</td>\n",
       "      <td>207.950</td>\n",
       "      <td>15.34500</td>\n",
       "      <td>0.329791</td>\n",
       "      <td>0.185196</td>\n",
       "      <td>-0.463724</td>\n",
       "      <td>-0.381172</td>\n",
       "      <td>-0.169650</td>\n",
       "      <td>1</td>\n",
       "    </tr>\n",
       "    <tr>\n",
       "      <th>1226</th>\n",
       "      <td>22.920</td>\n",
       "      <td>58.88</td>\n",
       "      <td>5.7984</td>\n",
       "      <td>46.922495</td>\n",
       "      <td>12.079998</td>\n",
       "      <td>2055.00</td>\n",
       "      <td>2195.6800</td>\n",
       "      <td>520.7424</td>\n",
       "      <td>9.080</td>\n",
       "      <td>1.57440</td>\n",
       "      <td>...</td>\n",
       "      <td>0.929083</td>\n",
       "      <td>0.743266</td>\n",
       "      <td>202.400</td>\n",
       "      <td>12.76800</td>\n",
       "      <td>0.618671</td>\n",
       "      <td>0.153887</td>\n",
       "      <td>-0.080488</td>\n",
       "      <td>0.053081</td>\n",
       "      <td>0.151123</td>\n",
       "      <td>0</td>\n",
       "    </tr>\n",
       "    <tr>\n",
       "      <th>5630</th>\n",
       "      <td>29.800</td>\n",
       "      <td>55.80</td>\n",
       "      <td>3.5200</td>\n",
       "      <td>37.026805</td>\n",
       "      <td>11.090818</td>\n",
       "      <td>1128.00</td>\n",
       "      <td>1916.8000</td>\n",
       "      <td>238.0800</td>\n",
       "      <td>8.200</td>\n",
       "      <td>1.28000</td>\n",
       "      <td>...</td>\n",
       "      <td>1.238777</td>\n",
       "      <td>0.495511</td>\n",
       "      <td>197.500</td>\n",
       "      <td>6.30000</td>\n",
       "      <td>0.680734</td>\n",
       "      <td>0.079534</td>\n",
       "      <td>-0.234828</td>\n",
       "      <td>-0.153727</td>\n",
       "      <td>-0.134085</td>\n",
       "      <td>1</td>\n",
       "    </tr>\n",
       "  </tbody>\n",
       "</table>\n",
       "<p>5 rows × 47 columns</p>\n",
       "</div>"
      ],
      "text/plain": [
       "      MagpieData mean Number  MagpieData mean MendeleevNumber  \\\n",
       "993                   20.325                            64.30   \n",
       "3020                  20.140                            59.82   \n",
       "2406                  43.200                            35.20   \n",
       "1226                  22.920                            58.88   \n",
       "5630                  29.800                            55.80   \n",
       "\n",
       "      MagpieData avg_dev MendeleevNumber  MagpieData range AtomicWeight  \\\n",
       "993                               7.8750                      48.122195   \n",
       "3020                              6.8208                      48.122195   \n",
       "2406                             24.4200                     111.923931   \n",
       "1226                              5.7984                      46.922495   \n",
       "5630                              3.5200                      37.026805   \n",
       "\n",
       "      MagpieData avg_dev AtomicWeight  MagpieData range MeltingT  \\\n",
       "993                         18.778482                     661.00   \n",
       "3020                        18.619820                     829.00   \n",
       "2406                        41.449127                     794.53   \n",
       "1226                        12.079998                    2055.00   \n",
       "5630                        11.090818                    1128.00   \n",
       "\n",
       "      MagpieData mean MeltingT  MagpieData avg_dev MeltingT  \\\n",
       "993                  1869.8250                     191.2700   \n",
       "3020                 1843.2500                     282.6600   \n",
       "2406                 1394.0235                     267.1812   \n",
       "1226                 2195.6800                     520.7424   \n",
       "5630                 1916.8000                     238.0800   \n",
       "\n",
       "      MagpieData mean Column  MagpieData avg_dev Column  ...  \\\n",
       "993                   10.675                    2.09375  ...   \n",
       "3020                   9.420                    2.00480  ...   \n",
       "2406                   6.300                    3.63000  ...   \n",
       "1226                   9.080                    1.57440  ...   \n",
       "5630                   8.200                    1.28000  ...   \n",
       "\n",
       "      MagpieData mean GSmagmom  MagpieData avg_dev GSmagmom  \\\n",
       "993                   0.967795                     0.725846   \n",
       "3020                  0.573043                     0.721817   \n",
       "2406                  0.238158                     0.285789   \n",
       "1226                  0.929083                     0.743266   \n",
       "5630                  1.238777                     0.495511   \n",
       "\n",
       "      MagpieData mean SpaceGroupNumber  MagpieData avg_dev SpaceGroupNumber  \\\n",
       "993                            194.175                             11.48875   \n",
       "3020                           194.210                             15.95300   \n",
       "2406                           207.950                             15.34500   \n",
       "1226                           202.400                             12.76800   \n",
       "5630                           197.500                              6.30000   \n",
       "\n",
       "      Yang omega  Yang delta  Miedema_deltaH_inter  Miedema_deltaH_amor  \\\n",
       "993     0.467952    0.126839             -0.212328            -0.112353   \n",
       "3020    0.667104    0.156991             -0.577483            -0.422023   \n",
       "2406    0.329791    0.185196             -0.463724            -0.381172   \n",
       "1226    0.618671    0.153887             -0.080488             0.053081   \n",
       "5630    0.680734    0.079534             -0.234828            -0.153727   \n",
       "\n",
       "      Miedema_deltaH_ss_min  gfa predicted  \n",
       "993               -0.081354              1  \n",
       "3020              -0.346140              1  \n",
       "2406              -0.169650              1  \n",
       "1226               0.151123              0  \n",
       "5630              -0.134085              1  \n",
       "\n",
       "[5 rows x 47 columns]"
      ]
     },
     "execution_count": 40,
     "metadata": {},
     "output_type": "execute_result"
    }
   ],
   "source": [
    "prediction_df.head()"
   ]
  },
  {
   "cell_type": "code",
   "execution_count": 41,
   "id": "5f335260",
   "metadata": {},
   "outputs": [
    {
     "name": "stdout",
     "output_type": "stream",
     "text": [
      "Dummy MAE: 0.41747901582027375 \n",
      "MatPipe MAE: 0.13204225352112675 \n"
     ]
    }
   ],
   "source": [
    "#mostra estatística dos erros\n",
    "dr = DummyRegressor()\n",
    "dr.fit(train_df[\"composition\"], train_df[target])\n",
    "dummy_test = dr.predict(test_df[\"composition\"])\n",
    "\n",
    "\n",
    "true = test_df[target]\n",
    "matpipe_test = prediction_df[target + \" predicted\"]\n",
    "\n",
    "mae_matpipe = mean_absolute_error(true, matpipe_test)\n",
    "mae_dummy = mean_absolute_error(true, dummy_test)\n",
    "\n",
    "print(\"Dummy MAE: {} \".format(mae_dummy))\n",
    "print(\"MatPipe MAE: {} \".format(mae_matpipe))"
   ]
  },
  {
   "cell_type": "code",
   "execution_count": 42,
   "id": "ba35bb23",
   "metadata": {},
   "outputs": [
    {
     "name": "stdout",
     "output_type": "stream",
     "text": [
      "{'data_cleaning': {'drop_na_targets': 'True',\n",
      "                   'encoder': 'one-hot',\n",
      "                   'feature_na_method': 'drop',\n",
      "                   'na_method_fit': 'drop',\n",
      "                   'na_method_transform': 'fill'},\n",
      " 'feature_reduction': {'reducer_params': \"{'tree': {'importance_percentile': \"\n",
      "                                         \"0.99, 'mode': 'classification', \"\n",
      "                                         \"'random_state': 0}}\",\n",
      "                       'reducers': \"('corr', 'tree')\"},\n",
      " 'features': ['MagpieData mean Number',\n",
      "              'MagpieData mean MendeleevNumber',\n",
      "              'MagpieData avg_dev MendeleevNumber',\n",
      "              'MagpieData range AtomicWeight',\n",
      "              'MagpieData avg_dev AtomicWeight',\n",
      "              'MagpieData range MeltingT',\n",
      "              'MagpieData mean MeltingT',\n",
      "              'MagpieData avg_dev MeltingT',\n",
      "              'MagpieData mean Column',\n",
      "              'MagpieData avg_dev Column',\n",
      "              'MagpieData avg_dev Row',\n",
      "              'MagpieData maximum CovalentRadius',\n",
      "              'MagpieData range CovalentRadius',\n",
      "              'MagpieData mean CovalentRadius',\n",
      "              'MagpieData avg_dev CovalentRadius',\n",
      "              'MagpieData range Electronegativity',\n",
      "              'MagpieData mean Electronegativity',\n",
      "              'MagpieData avg_dev Electronegativity',\n",
      "              'MagpieData mean NpValence',\n",
      "              'MagpieData avg_dev NpValence',\n",
      "              'MagpieData mean NdValence',\n",
      "              'MagpieData avg_dev NdValence',\n",
      "              'MagpieData mean NValence',\n",
      "              'MagpieData avg_dev NValence',\n",
      "              'MagpieData mean NsUnfilled',\n",
      "              'MagpieData mean NpUnfilled',\n",
      "              'MagpieData avg_dev NpUnfilled',\n",
      "              'MagpieData mean NdUnfilled',\n",
      "              'MagpieData avg_dev NdUnfilled',\n",
      "              'MagpieData range NUnfilled',\n",
      "              'MagpieData mean NUnfilled',\n",
      "              'MagpieData avg_dev NUnfilled',\n",
      "              'MagpieData maximum GSvolume_pa',\n",
      "              'MagpieData range GSvolume_pa',\n",
      "              'MagpieData mean GSvolume_pa',\n",
      "              'MagpieData avg_dev GSvolume_pa',\n",
      "              'MagpieData avg_dev GSbandgap',\n",
      "              'MagpieData mean GSmagmom',\n",
      "              'MagpieData avg_dev GSmagmom',\n",
      "              'MagpieData mean SpaceGroupNumber',\n",
      "              'MagpieData avg_dev SpaceGroupNumber',\n",
      "              'Yang omega',\n",
      "              'Yang delta',\n",
      "              'Miedema_deltaH_inter',\n",
      "              'Miedema_deltaH_amor',\n",
      "              'Miedema_deltaH_ss_min'],\n",
      " 'featurizers': {'bandstructure': [BandFeaturizer(find_method='nearest', kpoints=None, nbands=2),\n",
      "                                   BranchPointEnergy(atol=1e-05, calculate_band_edges=True, n_cb=1, n_vb=1)],\n",
      "                 'composition': [ElementProperty(data_source=<matminer.utils.data.MagpieData object at 0x0000021B7A809A00>,\n",
      "                features=['Number', 'MendeleevNumber', 'AtomicWeight',\n",
      "                          'MeltingT', 'Column', 'Row', 'CovalentRadius',\n",
      "                          'Electronegativity', 'NsValence', 'NpValence',\n",
      "                          'NdValence', 'NfValence', 'NValence', 'NsUnfilled',\n",
      "                          'NpUnfilled', 'NdUnfilled', 'NfUnfilled', 'NUnfilled',\n",
      "                          'GSvolume_pa', 'GSbandgap', 'GSmagmom',\n",
      "                          'SpaceGroupNumber'],\n",
      "                stats=['minimum', 'maximum', 'range', 'mean', 'avg_dev',\n",
      "                       'mode']),\n",
      "                                 OxidationStates(stats=['minimum', 'maximum', 'range', 'std_dev']),\n",
      "                                 ElectronAffinity(),\n",
      "                                 IonProperty(data_source=<matminer.utils.data.PymatgenData object at 0x0000021B74F39D60>,\n",
      "            fast=False),\n",
      "                                 YangSolidSolution(),\n",
      "                                 Miedema(data_source='Miedema', ss_types=['min'],\n",
      "        struct_types=['inter', 'amor', 'ss'])],\n",
      "                 'dos': [DOSFeaturizer(contributors=1, decay_length=0.1, gaussian_smear=0.05,\n",
      "              sampling_resolution=100),\n",
      "                         DopingFermi(T=300, dopings=[-1e+20, 1e+20], eref='midgap', return_eref=False),\n",
      "                         Hybridization(decay_length=0.1, gaussian_smear=0.05, sampling_resolution=100,\n",
      "              species=[]),\n",
      "                         DosAsymmetry(decay_length=0.5, gaussian_smear=0.05, sampling_resolution=100)],\n",
      "                 'structure': [DensityFeatures(desired_features=None),\n",
      "                               GlobalSymmetryFeatures(desired_features=None),\n",
      "                               EwaldEnergy(accuracy=4),\n",
      "                               SineCoulombMatrix(diag_elems=True, flatten=True),\n",
      "                               GlobalInstabilityIndex(disordered_pymatgen=False, r_cut=4.0),\n",
      "                               StructuralComplexity(symprec=0.1)]},\n",
      " 'ml_model': 'Pipeline(memory=Memory(location=C:\\\\Users\\\\Ricardo\\\\AppData\\\\Local\\\\Temp\\\\tmp_hxzqcwl\\\\joblib),\\n'\n",
      "             \"         steps=[('selectpercentile',\\n\"\n",
      "             '                 SelectPercentile(percentile=86,\\n'\n",
      "             '                                  score_func=<function f_classif '\n",
      "             'at 0x0000021B6DCC7AF0>)),\\n'\n",
      "             \"                ('zerocount', ZeroCount()),\\n\"\n",
      "             \"                ('gradientboostingclassifier',\\n\"\n",
      "             '                 GradientBoostingClassifier(ccp_alpha=0.0,\\n'\n",
      "             '                                            '\n",
      "             \"criterion='friedman_mse', init=None,\\n\"\n",
      "             '                                            learning_rate=0.5, '\n",
      "             'l...\\n'\n",
      "             '                                            max_depth=7, '\n",
      "             'max_features=0.05,\\n'\n",
      "             '                                            '\n",
      "             'max_leaf_nodes=None,\\n'\n",
      "             '                                            '\n",
      "             'min_impurity_decrease=0.0,\\n'\n",
      "             '                                            '\n",
      "             'min_impurity_split=None,\\n'\n",
      "             '                                            '\n",
      "             'min_samples_leaf=16,\\n'\n",
      "             '                                            '\n",
      "             'min_samples_split=14,\\n'\n",
      "             '                                            '\n",
      "             'min_weight_fraction_leaf=0.0,\\n'\n",
      "             '                                            n_estimators=500,\\n'\n",
      "             '                                            '\n",
      "             'n_iter_no_change=None,\\n'\n",
      "             '                                            '\n",
      "             \"presort='deprecated',\\n\"\n",
      "             '                                            random_state=None,\\n'\n",
      "             '                                            '\n",
      "             'subsample=0.6500000000000001,\\n'\n",
      "             '                                            tol=0.0001, '\n",
      "             'validation_fraction=0.1,\\n'\n",
      "             '                                            verbose=0, '\n",
      "             'warm_start=False))],\\n'\n",
      "             '         verbose=False)'}\n"
     ]
    },
    {
     "name": "stderr",
     "output_type": "stream",
     "text": [
      "C:\\Users\\Ricardo\\anaconda3\\lib\\site-packages\\sklearn\\base.py:193: FutureWarning: From version 0.24, get_params will raise an AttributeError if a parameter cannot be retrieved as an instance attribute. Previously it would return None.\n",
      "  warnings.warn('From version 0.24, get_params will raise an '\n"
     ]
    }
   ],
   "source": [
    "#inspeciona o modelo\n",
    "summary = pipe.summarize(filename=\"MatPipe_predict_experimental_gap_from_composition_summary.json\")\n",
    "\n",
    "pprint.pprint(summary)"
   ]
  },
  {
   "cell_type": "code",
   "execution_count": null,
   "id": "96d90bbd",
   "metadata": {},
   "outputs": [],
   "source": []
  }
 ],
 "metadata": {
  "kernelspec": {
   "display_name": "Python 3",
   "language": "python",
   "name": "python3"
  },
  "language_info": {
   "codemirror_mode": {
    "name": "ipython",
    "version": 3
   },
   "file_extension": ".py",
   "mimetype": "text/x-python",
   "name": "python",
   "nbconvert_exporter": "python",
   "pygments_lexer": "ipython3",
   "version": "3.8.8"
  }
 },
 "nbformat": 4,
 "nbformat_minor": 5
}
