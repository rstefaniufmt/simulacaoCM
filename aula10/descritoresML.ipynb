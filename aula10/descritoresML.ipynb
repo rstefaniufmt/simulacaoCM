{
 "cells": [
  {
   "cell_type": "markdown",
   "id": "ffc1f1ee",
   "metadata": {},
   "source": [
    "# EXEMPLO DE FEATURIZAÇÃO\n",
    "## Também usando MÉTODO DE RandomForest"
   ]
  },
  {
   "cell_type": "code",
   "execution_count": null,
   "id": "364c3bce",
   "metadata": {},
   "outputs": [],
   "source": [
    "from platform import python_version\n",
    "from matminer.datasets.convenience_loaders import load_elastic_tensor\n",
    "from matminer.featurizers.conversions import StrToComposition\n",
    "from matminer.featurizers.composition import ElementProperty\n",
    "from matminer.featurizers.conversions import CompositionToOxidComposition\n",
    "from matminer.featurizers.composition import OxidationStates\n",
    "from matminer.featurizers.structure import DensityFeatures\n",
    "\n",
    "from sklearn.linear_model import LinearRegression\n",
    "from sklearn.metrics import mean_squared_error\n",
    "from sklearn.model_selection import KFold, cross_val_score\n",
    "from figrecipes import PlotlyFig\n",
    "from sklearn.model_selection import cross_val_predict\n",
    "from sklearn.ensemble import RandomForestRegressor\n",
    "from sklearn.model_selection import train_test_split\n",
    "\n",
    "\n",
    "import numpy as np\n",
    "print(python_version())"
   ]
  },
  {
   "cell_type": "code",
   "execution_count": null,
   "id": "5dd69d9f",
   "metadata": {},
   "outputs": [],
   "source": [
    "df = load_elastic_tensor()\n",
    "df.head()"
   ]
  },
  {
   "cell_type": "code",
   "execution_count": null,
   "id": "b73daf89",
   "metadata": {},
   "outputs": [],
   "source": [
    "colunas_remover = [\"volume\", \"nsites\", \"compliance_tensor\", \"elastic_tensor\", \n",
    "                    \"elastic_tensor_original\", \"K_Voigt\", \"G_Voigt\", \"K_Reuss\", \"G_Reuss\"]\n",
    "df = df.drop(colunas_remover, axis=1)\n",
    "df.head()"
   ]
  },
  {
   "cell_type": "code",
   "execution_count": null,
   "id": "5053fd39",
   "metadata": {},
   "outputs": [],
   "source": [
    "df.describe()"
   ]
  },
  {
   "cell_type": "code",
   "execution_count": null,
   "id": "dc465267",
   "metadata": {},
   "outputs": [],
   "source": [
    "#featurização\n",
    "df = StrToComposition().featurize_dataframe(df, \"formula\")\n",
    "df.head()"
   ]
  },
  {
   "cell_type": "code",
   "execution_count": null,
   "id": "833513a6",
   "metadata": {},
   "outputs": [],
   "source": [
    "ep_feat = ElementProperty.from_preset(preset_name=\"magpie\")\n",
    "df = ep_feat.featurize_dataframe(df, col_id=\"composition\")\n",
    "df.head()"
   ]
  },
  {
   "cell_type": "code",
   "execution_count": null,
   "id": "e7565913",
   "metadata": {},
   "outputs": [],
   "source": [
    "df = CompositionToOxidComposition().featurize_dataframe(df, \"composition\")\n",
    "\n",
    "os_feat = OxidationStates()\n",
    "df = os_feat.featurize_dataframe(df, \"composition_oxid\")\n",
    "df.head()"
   ]
  },
  {
   "cell_type": "code",
   "execution_count": null,
   "id": "987b8859",
   "metadata": {},
   "outputs": [],
   "source": [
    "df_feat = DensityFeatures()\n",
    "df = df_feat.featurize_dataframe(df, \"structure\") \n",
    "df.head()"
   ]
  },
  {
   "cell_type": "code",
   "execution_count": null,
   "id": "5271321b",
   "metadata": {},
   "outputs": [],
   "source": [
    "#prepara dados para ML\n",
    "y = df['K_VRH'].values #valor a prever\n",
    "eliminar = [\"G_VRH\", \"K_VRH\", \"elastic_anisotropy\", \"formula\", \"material_id\", \n",
    "            \"poisson_ratio\", \"structure\", \"composition\", \"composition_oxid\"]\n",
    "X = df.drop(eliminar, axis=1)\n",
    "print(\"There are {} possible descriptors:\\n\\n{}\".format(X.shape[1], X.columns.values))"
   ]
  },
  {
   "cell_type": "code",
   "execution_count": null,
   "id": "42b3c098",
   "metadata": {},
   "outputs": [],
   "source": [
    "#regressão linear\n",
    "lr = LinearRegression()\n",
    "\n",
    "lr.fit(X, y)\n",
    "\n",
    "print('training R2 = ' + str(round(lr.score(X, y), 3)))\n",
    "print('training RMSE = %.3f' % np.sqrt(mean_squared_error(y_true=y, y_pred=lr.predict(X))))"
   ]
  },
  {
   "cell_type": "code",
   "execution_count": null,
   "id": "03d5ea98",
   "metadata": {},
   "outputs": [],
   "source": [
    "# Use 10-fold cross validation (90% training, 10% test)\n",
    "crossvalidation = KFold(n_splits=10, shuffle=True, random_state=1)\n",
    "scores = cross_val_score(lr, X, y, scoring='neg_mean_squared_error', cv=crossvalidation, n_jobs=1)\n",
    "rmse_scores = [np.sqrt(abs(s)) for s in scores]\n",
    "r2_scores = cross_val_score(lr, X, y, scoring='r2', cv=crossvalidation, n_jobs=1)\n",
    "\n",
    "print('Cross-validation results:')\n",
    "print('Folds: %i, mean R2: %.3f' % (len(scores), np.mean(np.abs(r2_scores))))\n",
    "print('Folds: %i, mean RMSE: %.3f' % (len(scores), np.mean(np.abs(rmse_scores))))"
   ]
  },
  {
   "cell_type": "code",
   "execution_count": null,
   "id": "cad69154",
   "metadata": {},
   "outputs": [],
   "source": [
    "#visualiza dados\n",
    "pf = PlotlyFig(x_title='DFT (MP) bulk modulus (GPa)',\n",
    "               y_title='Predicted bulk modulus (GPa)',\n",
    "               title='Linear regression',\n",
    "               mode='notebook',\n",
    "               filename=\"lr_regression.html\")\n",
    "\n",
    "pf.xy(xy_pairs=[(y, cross_val_predict(lr, X, y, cv=crossvalidation)), ([0, 400], [0, 400])], \n",
    "      labels=df['formula'], \n",
    "      modes=['markers', 'lines'],\n",
    "      lines=[{}, {'color': 'black', 'dash': 'dash'}], \n",
    "      showlegends=False\n",
    "     )"
   ]
  },
  {
   "cell_type": "code",
   "execution_count": null,
   "id": "ffbd2649",
   "metadata": {},
   "outputs": [],
   "source": [
    "#método de ML mais avançado\n",
    "rf = RandomForestRegressor(n_estimators=50, random_state=1)\n",
    "\n",
    "rf.fit(X, y)\n",
    "print('training R2 = ' + str(round(rf.score(X, y), 3)))\n",
    "print('training RMSE = %.3f' % np.sqrt(mean_squared_error(y_true=y, y_pred=rf.predict(X))))"
   ]
  },
  {
   "cell_type": "code",
   "execution_count": null,
   "id": "cb1e2df6",
   "metadata": {},
   "outputs": [],
   "source": [
    "r2_scores = cross_val_score(rf, X, y, scoring='r2', cv=crossvalidation, n_jobs=-1)\n",
    "scores = cross_val_score(rf, X, y, scoring='neg_mean_squared_error', cv=crossvalidation, n_jobs=-1)\n",
    "rmse_scores = [np.sqrt(abs(s)) for s in scores]\n",
    "\n",
    "print('Cross-validation results:')\n",
    "print('Folds: %i, mean R2: %.3f' % (len(scores), np.mean(np.abs(r2_scores))))\n",
    "print('Folds: %i, mean RMSE: %.3f' % (len(scores), np.mean(np.abs(rmse_scores))))"
   ]
  },
  {
   "cell_type": "code",
   "execution_count": null,
   "id": "19cc5ebc",
   "metadata": {},
   "outputs": [],
   "source": [
    "pf_rf = PlotlyFig(x_title='DFT (MP) bulk modulus (GPa)',\n",
    "                  y_title='Random forest bulk modulus (GPa)',\n",
    "                  title='Random forest regression',\n",
    "                  mode='notebook',\n",
    "                  filename=\"rf_regression.html\")\n",
    "\n",
    "pf_rf.xy([(y, cross_val_predict(rf, X, y, cv=crossvalidation)), ([0, 400], [0, 400])], \n",
    "      labels=df['formula'], modes=['markers', 'lines'],\n",
    "      lines=[{}, {'color': 'black', 'dash': 'dash'}], showlegends=False)"
   ]
  },
  {
   "cell_type": "code",
   "execution_count": null,
   "id": "ceabd72a",
   "metadata": {},
   "outputs": [],
   "source": [
    "X['formula'] = df['formula']\n",
    "X_train, X_test, y_train, y_test = train_test_split(X, y, test_size=0.2, random_state=1)\n",
    "train_formula = X_train['formula']\n",
    "X_train = X_train.drop('formula', axis=1)\n",
    "test_formula = X_test['formula']\n",
    "X_test = X_test.drop('formula', axis=1)\n",
    "\n",
    "rf_reg = RandomForestRegressor(n_estimators=50, random_state=1)\n",
    "rf_reg.fit(X_train, y_train)\n",
    "\n",
    "# get fit statistics\n",
    "print('training R2 = ' + str(round(rf_reg.score(X_train, y_train), 3)))\n",
    "print('training RMSE = %.3f' % np.sqrt(mean_squared_error(y_true=y_train, y_pred=rf_reg.predict(X_train))))\n",
    "print('test R2 = ' + str(round(rf_reg.score(X_test, y_test), 3)))\n",
    "print('test RMSE = %.3f' % np.sqrt(mean_squared_error(y_true=y_test, y_pred=rf_reg.predict(X_test))))"
   ]
  },
  {
   "cell_type": "code",
   "execution_count": null,
   "id": "3510fed8",
   "metadata": {},
   "outputs": [],
   "source": [
    "#exemplo de estatística\n",
    "\n",
    "pf_rf = PlotlyFig(x_title='Bulk modulus prediction residual (GPa)',\n",
    "                  y_title='Probability',\n",
    "                  title='Random forest regression residuals',\n",
    "                  mode=\"notebook\",\n",
    "                  filename=\"rf_regression_residuals.html\")\n",
    "\n",
    "hist_plot = pf_rf.histogram(data=[y_train-rf_reg.predict(X_train), \n",
    "                                  y_test-rf_reg.predict(X_test)],\n",
    "                            histnorm='probability', colors=['blue', 'red'],\n",
    "                            return_plot=True\n",
    "                           )\n",
    "hist_plot[\"data\"][0]['name'] = 'train'\n",
    "hist_plot[\"data\"][1]['name'] = 'test'\n",
    "pf_rf.create_plot(hist_plot)"
   ]
  },
  {
   "cell_type": "code",
   "execution_count": null,
   "id": "d6800550",
   "metadata": {},
   "outputs": [],
   "source": [
    "\n",
    "#mostra descritores mais importantes\n",
    "importances = rf.feature_importances_\n",
    "\n",
    "included = X.columns.values\n",
    "indices = np.argsort(importances)[::-1]\n",
    "\n",
    "pf = PlotlyFig(y_title='Importance (%)',\n",
    "               title='Feature by importances',\n",
    "               mode='notebook',\n",
    "               fontsize=20,\n",
    "               ticksize=15)\n",
    "\n",
    "pf.bar(x=included[indices][0:10], y=importances[indices][0:10])"
   ]
  },
  {
   "cell_type": "code",
   "execution_count": null,
   "id": "a133f5b1",
   "metadata": {},
   "outputs": [],
   "source": []
  }
 ],
 "metadata": {
  "kernelspec": {
   "display_name": "Python 3",
   "language": "python",
   "name": "python3"
  },
  "language_info": {
   "codemirror_mode": {
    "name": "ipython",
    "version": 3
   },
   "file_extension": ".py",
   "mimetype": "text/x-python",
   "name": "python",
   "nbconvert_exporter": "python",
   "pygments_lexer": "ipython3",
   "version": "3.8.8"
  }
 },
 "nbformat": 4,
 "nbformat_minor": 5
}
